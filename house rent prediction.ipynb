{
 "cells": [
  {
   "cell_type": "code",
   "execution_count": 1,
   "metadata": {},
   "outputs": [],
   "source": [
    "import numpy as np\n",
    "import pandas as pd\n",
    "import matplotlib.pyplot as plt\n",
    "import seaborn as sns"
   ]
  },
  {
   "cell_type": "code",
   "execution_count": 2,
   "metadata": {},
   "outputs": [
    {
     "name": "stdout",
     "output_type": "stream",
     "text": [
      "(10884, 30)\n"
     ]
    },
    {
     "data": {
      "text/html": [
       "<div>\n",
       "<style scoped>\n",
       "    .dataframe tbody tr th:only-of-type {\n",
       "        vertical-align: middle;\n",
       "    }\n",
       "\n",
       "    .dataframe tbody tr th {\n",
       "        vertical-align: top;\n",
       "    }\n",
       "\n",
       "    .dataframe thead th {\n",
       "        text-align: right;\n",
       "    }\n",
       "</style>\n",
       "<table border=\"1\" class=\"dataframe\">\n",
       "  <thead>\n",
       "    <tr style=\"text-align: right;\">\n",
       "      <th></th>\n",
       "      <th>bedroom</th>\n",
       "      <th>bathrooms</th>\n",
       "      <th>area</th>\n",
       "      <th>furnishing</th>\n",
       "      <th>avalable_for</th>\n",
       "      <th>address</th>\n",
       "      <th>floor_number</th>\n",
       "      <th>facing</th>\n",
       "      <th>floor_type</th>\n",
       "      <th>gate_community</th>\n",
       "      <th>...</th>\n",
       "      <th>pooja_room</th>\n",
       "      <th>study_room</th>\n",
       "      <th>others</th>\n",
       "      <th>servant_room</th>\n",
       "      <th>store_room</th>\n",
       "      <th>maintenance_amt</th>\n",
       "      <th>brok_amt</th>\n",
       "      <th>deposit_amt</th>\n",
       "      <th>mnt_amt</th>\n",
       "      <th>rent</th>\n",
       "    </tr>\n",
       "  </thead>\n",
       "  <tbody>\n",
       "    <tr>\n",
       "      <th>0</th>\n",
       "      <td>2</td>\n",
       "      <td>2</td>\n",
       "      <td>1050.0</td>\n",
       "      <td>Unfurnished</td>\n",
       "      <td>All</td>\n",
       "      <td>Sadguru hights, Pingale Wasti, , Pune, Maharas...</td>\n",
       "      <td>5</td>\n",
       "      <td>West</td>\n",
       "      <td>Marble</td>\n",
       "      <td>Yes</td>\n",
       "      <td>...</td>\n",
       "      <td>0</td>\n",
       "      <td>0</td>\n",
       "      <td>0</td>\n",
       "      <td>0</td>\n",
       "      <td>0</td>\n",
       "      <td>0</td>\n",
       "      <td>0</td>\n",
       "      <td>3</td>\n",
       "      <td>0.0</td>\n",
       "      <td>20000.0</td>\n",
       "    </tr>\n",
       "    <tr>\n",
       "      <th>1</th>\n",
       "      <td>2</td>\n",
       "      <td>2</td>\n",
       "      <td>760.0</td>\n",
       "      <td>Unfurnished</td>\n",
       "      <td>All</td>\n",
       "      <td>Manav Silver Springs, Wagholi, , Pune, Maharas...</td>\n",
       "      <td>5</td>\n",
       "      <td>East</td>\n",
       "      <td>Vitrified</td>\n",
       "      <td>Yes</td>\n",
       "      <td>...</td>\n",
       "      <td>0</td>\n",
       "      <td>0</td>\n",
       "      <td>0</td>\n",
       "      <td>0</td>\n",
       "      <td>0</td>\n",
       "      <td>0</td>\n",
       "      <td>0</td>\n",
       "      <td>40000</td>\n",
       "      <td>0.0</td>\n",
       "      <td>14000.0</td>\n",
       "    </tr>\n",
       "    <tr>\n",
       "      <th>2</th>\n",
       "      <td>3</td>\n",
       "      <td>3</td>\n",
       "      <td>0.0</td>\n",
       "      <td>Semifurnished</td>\n",
       "      <td>All</td>\n",
       "      <td>Saarrthi Souvenir, Mahalunge, , Pune, Maharashtra</td>\n",
       "      <td>1</td>\n",
       "      <td>South-West</td>\n",
       "      <td>Vitrified</td>\n",
       "      <td>Yes</td>\n",
       "      <td>...</td>\n",
       "      <td>0</td>\n",
       "      <td>0</td>\n",
       "      <td>1</td>\n",
       "      <td>0</td>\n",
       "      <td>0</td>\n",
       "      <td>Maintenance 1/ (/ month</td>\n",
       "      <td>23000</td>\n",
       "      <td>60000</td>\n",
       "      <td>1.0</td>\n",
       "      <td>22999.0</td>\n",
       "    </tr>\n",
       "    <tr>\n",
       "      <th>3</th>\n",
       "      <td>1</td>\n",
       "      <td>1</td>\n",
       "      <td>628.0</td>\n",
       "      <td>Furnished</td>\n",
       "      <td>Family Only</td>\n",
       "      <td>Dhan Residency, Wanowrie, , Pune, Maharashtra</td>\n",
       "      <td>3</td>\n",
       "      <td>East</td>\n",
       "      <td>Mosaic</td>\n",
       "      <td>Yes</td>\n",
       "      <td>...</td>\n",
       "      <td>0</td>\n",
       "      <td>0</td>\n",
       "      <td>0</td>\n",
       "      <td>0</td>\n",
       "      <td>0</td>\n",
       "      <td>0</td>\n",
       "      <td>0</td>\n",
       "      <td>40000</td>\n",
       "      <td>0.0</td>\n",
       "      <td>13000.0</td>\n",
       "    </tr>\n",
       "    <tr>\n",
       "      <th>4</th>\n",
       "      <td>2</td>\n",
       "      <td>2</td>\n",
       "      <td>668.0</td>\n",
       "      <td>Semifurnished</td>\n",
       "      <td>Family , Bachelors (Men Only)</td>\n",
       "      <td>Saptsiddhi Savali Homes, Uruli Devachi, , Pune...</td>\n",
       "      <td>6</td>\n",
       "      <td>South</td>\n",
       "      <td>Polished concrete</td>\n",
       "      <td>Yes</td>\n",
       "      <td>...</td>\n",
       "      <td>0</td>\n",
       "      <td>0</td>\n",
       "      <td>0</td>\n",
       "      <td>0</td>\n",
       "      <td>0</td>\n",
       "      <td>0</td>\n",
       "      <td>0</td>\n",
       "      <td>20</td>\n",
       "      <td>0.0</td>\n",
       "      <td>7500.0</td>\n",
       "    </tr>\n",
       "  </tbody>\n",
       "</table>\n",
       "<p>5 rows × 30 columns</p>\n",
       "</div>"
      ],
      "text/plain": [
       "   bedroom  bathrooms    area     furnishing                   avalable_for  \\\n",
       "0        2          2  1050.0    Unfurnished                            All   \n",
       "1        2          2   760.0    Unfurnished                            All   \n",
       "2        3          3     0.0  Semifurnished                            All   \n",
       "3        1          1   628.0      Furnished                    Family Only   \n",
       "4        2          2   668.0  Semifurnished  Family , Bachelors (Men Only)   \n",
       "\n",
       "                                             address  floor_number  \\\n",
       "0  Sadguru hights, Pingale Wasti, , Pune, Maharas...             5   \n",
       "1  Manav Silver Springs, Wagholi, , Pune, Maharas...             5   \n",
       "2  Saarrthi Souvenir, Mahalunge, , Pune, Maharashtra             1   \n",
       "3      Dhan Residency, Wanowrie, , Pune, Maharashtra             3   \n",
       "4  Saptsiddhi Savali Homes, Uruli Devachi, , Pune...             6   \n",
       "\n",
       "       facing         floor_type gate_community  ... pooja_room  study_room  \\\n",
       "0        West             Marble            Yes  ...          0           0   \n",
       "1        East          Vitrified            Yes  ...          0           0   \n",
       "2  South-West          Vitrified            Yes  ...          0           0   \n",
       "3        East             Mosaic            Yes  ...          0           0   \n",
       "4       South  Polished concrete            Yes  ...          0           0   \n",
       "\n",
       "  others servant_room  store_room          maintenance_amt  brok_amt  \\\n",
       "0      0            0           0                        0         0   \n",
       "1      0            0           0                        0         0   \n",
       "2      1            0           0  Maintenance 1/ (/ month     23000   \n",
       "3      0            0           0                        0         0   \n",
       "4      0            0           0                        0         0   \n",
       "\n",
       "   deposit_amt mnt_amt     rent  \n",
       "0            3     0.0  20000.0  \n",
       "1        40000     0.0  14000.0  \n",
       "2        60000     1.0  22999.0  \n",
       "3        40000     0.0  13000.0  \n",
       "4           20     0.0   7500.0  \n",
       "\n",
       "[5 rows x 30 columns]"
      ]
     },
     "execution_count": 2,
     "metadata": {},
     "output_type": "execute_result"
    }
   ],
   "source": [
    "df = pd.read_csv('train.csv')\n",
    "\n",
    "print(df.shape)\n",
    "df.head()"
   ]
  },
  {
   "cell_type": "code",
   "execution_count": 3,
   "metadata": {},
   "outputs": [
    {
     "data": {
      "text/html": [
       "<div>\n",
       "<style scoped>\n",
       "    .dataframe tbody tr th:only-of-type {\n",
       "        vertical-align: middle;\n",
       "    }\n",
       "\n",
       "    .dataframe tbody tr th {\n",
       "        vertical-align: top;\n",
       "    }\n",
       "\n",
       "    .dataframe thead th {\n",
       "        text-align: right;\n",
       "    }\n",
       "</style>\n",
       "<table border=\"1\" class=\"dataframe\">\n",
       "  <thead>\n",
       "    <tr style=\"text-align: right;\">\n",
       "      <th></th>\n",
       "      <th>bedroom</th>\n",
       "      <th>bathrooms</th>\n",
       "      <th>area</th>\n",
       "      <th>floor_number</th>\n",
       "      <th>parking</th>\n",
       "      <th>aggDur</th>\n",
       "      <th>noticeDur</th>\n",
       "      <th>lightbill</th>\n",
       "      <th>powerbackup</th>\n",
       "      <th>no_room</th>\n",
       "      <th>pooja_room</th>\n",
       "      <th>study_room</th>\n",
       "      <th>others</th>\n",
       "      <th>servant_room</th>\n",
       "      <th>store_room</th>\n",
       "      <th>brok_amt</th>\n",
       "      <th>deposit_amt</th>\n",
       "      <th>mnt_amt</th>\n",
       "      <th>rent</th>\n",
       "    </tr>\n",
       "  </thead>\n",
       "  <tbody>\n",
       "    <tr>\n",
       "      <th>count</th>\n",
       "      <td>10884.000000</td>\n",
       "      <td>10884.000000</td>\n",
       "      <td>10884.000000</td>\n",
       "      <td>10884.000000</td>\n",
       "      <td>10884.000000</td>\n",
       "      <td>10884.000000</td>\n",
       "      <td>10884.000000</td>\n",
       "      <td>10884.000000</td>\n",
       "      <td>10884.000000</td>\n",
       "      <td>10884.000000</td>\n",
       "      <td>10884.000000</td>\n",
       "      <td>10884.000000</td>\n",
       "      <td>10884.000000</td>\n",
       "      <td>10884.000000</td>\n",
       "      <td>10884.000000</td>\n",
       "      <td>10884.000000</td>\n",
       "      <td>1.088400e+04</td>\n",
       "      <td>10884.000000</td>\n",
       "      <td>1.088400e+04</td>\n",
       "    </tr>\n",
       "    <tr>\n",
       "      <th>mean</th>\n",
       "      <td>1.797868</td>\n",
       "      <td>1.779677</td>\n",
       "      <td>528.558560</td>\n",
       "      <td>3.062018</td>\n",
       "      <td>0.884693</td>\n",
       "      <td>7.423649</td>\n",
       "      <td>0.722345</td>\n",
       "      <td>0.172639</td>\n",
       "      <td>0.712422</td>\n",
       "      <td>0.750276</td>\n",
       "      <td>0.062201</td>\n",
       "      <td>0.048144</td>\n",
       "      <td>0.124495</td>\n",
       "      <td>0.032157</td>\n",
       "      <td>0.045296</td>\n",
       "      <td>7075.270764</td>\n",
       "      <td>3.670939e+04</td>\n",
       "      <td>257.493025</td>\n",
       "      <td>2.855947e+04</td>\n",
       "    </tr>\n",
       "    <tr>\n",
       "      <th>std</th>\n",
       "      <td>0.807328</td>\n",
       "      <td>0.832231</td>\n",
       "      <td>930.460935</td>\n",
       "      <td>2.390430</td>\n",
       "      <td>0.559457</td>\n",
       "      <td>7.670543</td>\n",
       "      <td>0.698966</td>\n",
       "      <td>0.377952</td>\n",
       "      <td>0.842667</td>\n",
       "      <td>0.432873</td>\n",
       "      <td>0.241532</td>\n",
       "      <td>0.214080</td>\n",
       "      <td>0.330160</td>\n",
       "      <td>0.176426</td>\n",
       "      <td>0.207962</td>\n",
       "      <td>17269.507644</td>\n",
       "      <td>5.589578e+04</td>\n",
       "      <td>1247.938097</td>\n",
       "      <td>1.183249e+06</td>\n",
       "    </tr>\n",
       "    <tr>\n",
       "      <th>min</th>\n",
       "      <td>1.000000</td>\n",
       "      <td>1.000000</td>\n",
       "      <td>0.000000</td>\n",
       "      <td>0.000000</td>\n",
       "      <td>0.000000</td>\n",
       "      <td>0.000000</td>\n",
       "      <td>0.000000</td>\n",
       "      <td>0.000000</td>\n",
       "      <td>0.000000</td>\n",
       "      <td>0.000000</td>\n",
       "      <td>0.000000</td>\n",
       "      <td>0.000000</td>\n",
       "      <td>0.000000</td>\n",
       "      <td>0.000000</td>\n",
       "      <td>0.000000</td>\n",
       "      <td>0.000000</td>\n",
       "      <td>0.000000e+00</td>\n",
       "      <td>0.000000</td>\n",
       "      <td>1.600000e+03</td>\n",
       "    </tr>\n",
       "    <tr>\n",
       "      <th>25%</th>\n",
       "      <td>1.000000</td>\n",
       "      <td>1.000000</td>\n",
       "      <td>0.000000</td>\n",
       "      <td>1.000000</td>\n",
       "      <td>1.000000</td>\n",
       "      <td>0.000000</td>\n",
       "      <td>0.000000</td>\n",
       "      <td>0.000000</td>\n",
       "      <td>0.000000</td>\n",
       "      <td>1.000000</td>\n",
       "      <td>0.000000</td>\n",
       "      <td>0.000000</td>\n",
       "      <td>0.000000</td>\n",
       "      <td>0.000000</td>\n",
       "      <td>0.000000</td>\n",
       "      <td>0.000000</td>\n",
       "      <td>4.000000e+00</td>\n",
       "      <td>0.000000</td>\n",
       "      <td>1.050000e+04</td>\n",
       "    </tr>\n",
       "    <tr>\n",
       "      <th>50%</th>\n",
       "      <td>2.000000</td>\n",
       "      <td>2.000000</td>\n",
       "      <td>510.000000</td>\n",
       "      <td>3.000000</td>\n",
       "      <td>1.000000</td>\n",
       "      <td>11.000000</td>\n",
       "      <td>1.000000</td>\n",
       "      <td>0.000000</td>\n",
       "      <td>0.000000</td>\n",
       "      <td>1.000000</td>\n",
       "      <td>0.000000</td>\n",
       "      <td>0.000000</td>\n",
       "      <td>0.000000</td>\n",
       "      <td>0.000000</td>\n",
       "      <td>0.000000</td>\n",
       "      <td>0.000000</td>\n",
       "      <td>3.000000e+04</td>\n",
       "      <td>0.000000</td>\n",
       "      <td>1.500000e+04</td>\n",
       "    </tr>\n",
       "    <tr>\n",
       "      <th>75%</th>\n",
       "      <td>2.000000</td>\n",
       "      <td>2.000000</td>\n",
       "      <td>840.000000</td>\n",
       "      <td>5.000000</td>\n",
       "      <td>1.000000</td>\n",
       "      <td>11.000000</td>\n",
       "      <td>1.000000</td>\n",
       "      <td>0.000000</td>\n",
       "      <td>2.000000</td>\n",
       "      <td>1.000000</td>\n",
       "      <td>0.000000</td>\n",
       "      <td>0.000000</td>\n",
       "      <td>0.000000</td>\n",
       "      <td>0.000000</td>\n",
       "      <td>0.000000</td>\n",
       "      <td>9000.000000</td>\n",
       "      <td>5.000000e+04</td>\n",
       "      <td>0.000000</td>\n",
       "      <td>2.100000e+04</td>\n",
       "    </tr>\n",
       "    <tr>\n",
       "      <th>max</th>\n",
       "      <td>22.000000</td>\n",
       "      <td>22.000000</td>\n",
       "      <td>72775.000000</td>\n",
       "      <td>9.000000</td>\n",
       "      <td>9.000000</td>\n",
       "      <td>36.000000</td>\n",
       "      <td>6.000000</td>\n",
       "      <td>1.000000</td>\n",
       "      <td>2.000000</td>\n",
       "      <td>1.000000</td>\n",
       "      <td>1.000000</td>\n",
       "      <td>1.000000</td>\n",
       "      <td>1.000000</td>\n",
       "      <td>1.000000</td>\n",
       "      <td>1.000000</td>\n",
       "      <td>275000.000000</td>\n",
       "      <td>1.500000e+06</td>\n",
       "      <td>40000.000000</td>\n",
       "      <td>1.234568e+08</td>\n",
       "    </tr>\n",
       "  </tbody>\n",
       "</table>\n",
       "</div>"
      ],
      "text/plain": [
       "            bedroom     bathrooms          area  floor_number       parking  \\\n",
       "count  10884.000000  10884.000000  10884.000000  10884.000000  10884.000000   \n",
       "mean       1.797868      1.779677    528.558560      3.062018      0.884693   \n",
       "std        0.807328      0.832231    930.460935      2.390430      0.559457   \n",
       "min        1.000000      1.000000      0.000000      0.000000      0.000000   \n",
       "25%        1.000000      1.000000      0.000000      1.000000      1.000000   \n",
       "50%        2.000000      2.000000    510.000000      3.000000      1.000000   \n",
       "75%        2.000000      2.000000    840.000000      5.000000      1.000000   \n",
       "max       22.000000     22.000000  72775.000000      9.000000      9.000000   \n",
       "\n",
       "             aggDur     noticeDur     lightbill   powerbackup       no_room  \\\n",
       "count  10884.000000  10884.000000  10884.000000  10884.000000  10884.000000   \n",
       "mean       7.423649      0.722345      0.172639      0.712422      0.750276   \n",
       "std        7.670543      0.698966      0.377952      0.842667      0.432873   \n",
       "min        0.000000      0.000000      0.000000      0.000000      0.000000   \n",
       "25%        0.000000      0.000000      0.000000      0.000000      1.000000   \n",
       "50%       11.000000      1.000000      0.000000      0.000000      1.000000   \n",
       "75%       11.000000      1.000000      0.000000      2.000000      1.000000   \n",
       "max       36.000000      6.000000      1.000000      2.000000      1.000000   \n",
       "\n",
       "         pooja_room    study_room        others  servant_room    store_room  \\\n",
       "count  10884.000000  10884.000000  10884.000000  10884.000000  10884.000000   \n",
       "mean       0.062201      0.048144      0.124495      0.032157      0.045296   \n",
       "std        0.241532      0.214080      0.330160      0.176426      0.207962   \n",
       "min        0.000000      0.000000      0.000000      0.000000      0.000000   \n",
       "25%        0.000000      0.000000      0.000000      0.000000      0.000000   \n",
       "50%        0.000000      0.000000      0.000000      0.000000      0.000000   \n",
       "75%        0.000000      0.000000      0.000000      0.000000      0.000000   \n",
       "max        1.000000      1.000000      1.000000      1.000000      1.000000   \n",
       "\n",
       "            brok_amt   deposit_amt       mnt_amt          rent  \n",
       "count   10884.000000  1.088400e+04  10884.000000  1.088400e+04  \n",
       "mean     7075.270764  3.670939e+04    257.493025  2.855947e+04  \n",
       "std     17269.507644  5.589578e+04   1247.938097  1.183249e+06  \n",
       "min         0.000000  0.000000e+00      0.000000  1.600000e+03  \n",
       "25%         0.000000  4.000000e+00      0.000000  1.050000e+04  \n",
       "50%         0.000000  3.000000e+04      0.000000  1.500000e+04  \n",
       "75%      9000.000000  5.000000e+04      0.000000  2.100000e+04  \n",
       "max    275000.000000  1.500000e+06  40000.000000  1.234568e+08  "
      ]
     },
     "execution_count": 3,
     "metadata": {},
     "output_type": "execute_result"
    }
   ],
   "source": [
    "df.describe()"
   ]
  },
  {
   "cell_type": "markdown",
   "metadata": {},
   "source": [
    "# EDA"
   ]
  },
  {
   "cell_type": "markdown",
   "metadata": {},
   "source": [
    "## Missing values"
   ]
  },
  {
   "cell_type": "code",
   "execution_count": 4,
   "metadata": {},
   "outputs": [
    {
     "data": {
      "text/plain": [
       "bedroom              0\n",
       "bathrooms            0\n",
       "area                 0\n",
       "furnishing           0\n",
       "avalable_for         0\n",
       "address              0\n",
       "floor_number         0\n",
       "facing               0\n",
       "floor_type           0\n",
       "gate_community       0\n",
       "corner_pro           0\n",
       "parking              0\n",
       "wheelchairadption    0\n",
       "petfacility          0\n",
       "aggDur               0\n",
       "noticeDur            0\n",
       "lightbill            0\n",
       "powerbackup          0\n",
       "propertyage          0\n",
       "no_room              0\n",
       "pooja_room           0\n",
       "study_room           0\n",
       "others               0\n",
       "servant_room         0\n",
       "store_room           0\n",
       "maintenance_amt      0\n",
       "brok_amt             0\n",
       "deposit_amt          0\n",
       "mnt_amt              0\n",
       "rent                 0\n",
       "dtype: int64"
      ]
     },
     "execution_count": 4,
     "metadata": {},
     "output_type": "execute_result"
    }
   ],
   "source": [
    "df.isnull().sum()"
   ]
  },
  {
   "cell_type": "markdown",
   "metadata": {},
   "source": [
    "## Target Variable"
   ]
  },
  {
   "cell_type": "code",
   "execution_count": 5,
   "metadata": {},
   "outputs": [],
   "source": [
    "target = 'rent'"
   ]
  },
  {
   "cell_type": "code",
   "execution_count": 6,
   "metadata": {},
   "outputs": [
    {
     "data": {
      "text/html": [
       "<div>\n",
       "<style scoped>\n",
       "    .dataframe tbody tr th:only-of-type {\n",
       "        vertical-align: middle;\n",
       "    }\n",
       "\n",
       "    .dataframe tbody tr th {\n",
       "        vertical-align: top;\n",
       "    }\n",
       "\n",
       "    .dataframe thead th {\n",
       "        text-align: right;\n",
       "    }\n",
       "</style>\n",
       "<table border=\"1\" class=\"dataframe\">\n",
       "  <thead>\n",
       "    <tr style=\"text-align: right;\">\n",
       "      <th></th>\n",
       "      <th>bedroom</th>\n",
       "      <th>bathrooms</th>\n",
       "      <th>area</th>\n",
       "      <th>furnishing</th>\n",
       "      <th>avalable_for</th>\n",
       "      <th>address</th>\n",
       "      <th>floor_number</th>\n",
       "      <th>facing</th>\n",
       "      <th>floor_type</th>\n",
       "      <th>gate_community</th>\n",
       "      <th>...</th>\n",
       "      <th>pooja_room</th>\n",
       "      <th>study_room</th>\n",
       "      <th>others</th>\n",
       "      <th>servant_room</th>\n",
       "      <th>store_room</th>\n",
       "      <th>maintenance_amt</th>\n",
       "      <th>brok_amt</th>\n",
       "      <th>deposit_amt</th>\n",
       "      <th>mnt_amt</th>\n",
       "      <th>rent</th>\n",
       "    </tr>\n",
       "  </thead>\n",
       "  <tbody>\n",
       "    <tr>\n",
       "      <th>1834</th>\n",
       "      <td>2</td>\n",
       "      <td>2</td>\n",
       "      <td>0.0</td>\n",
       "      <td>Furnished</td>\n",
       "      <td>All</td>\n",
       "      <td>Diamond Bhalchandra Nagari, Ravet, , Pune, Mah...</td>\n",
       "      <td>3</td>\n",
       "      <td>South-West</td>\n",
       "      <td>Vitrified</td>\n",
       "      <td>Yes</td>\n",
       "      <td>...</td>\n",
       "      <td>0</td>\n",
       "      <td>0</td>\n",
       "      <td>0</td>\n",
       "      <td>0</td>\n",
       "      <td>0</td>\n",
       "      <td>0</td>\n",
       "      <td>0</td>\n",
       "      <td>50000</td>\n",
       "      <td>0.0</td>\n",
       "      <td>123456789.0</td>\n",
       "    </tr>\n",
       "    <tr>\n",
       "      <th>8096</th>\n",
       "      <td>4</td>\n",
       "      <td>5</td>\n",
       "      <td>0.0</td>\n",
       "      <td>Semifurnished</td>\n",
       "      <td>All</td>\n",
       "      <td>Panchshil Eon Waterfront, Eon Free Zone , , Pu...</td>\n",
       "      <td>1</td>\n",
       "      <td>East</td>\n",
       "      <td>Marble</td>\n",
       "      <td>Yes</td>\n",
       "      <td>...</td>\n",
       "      <td>0</td>\n",
       "      <td>0</td>\n",
       "      <td>0</td>\n",
       "      <td>1</td>\n",
       "      <td>0</td>\n",
       "      <td>0</td>\n",
       "      <td>98000</td>\n",
       "      <td>300000</td>\n",
       "      <td>0.0</td>\n",
       "      <td>98000.0</td>\n",
       "    </tr>\n",
       "    <tr>\n",
       "      <th>4087</th>\n",
       "      <td>4</td>\n",
       "      <td>4</td>\n",
       "      <td>2400.0</td>\n",
       "      <td>Furnished</td>\n",
       "      <td>Family Only</td>\n",
       "      <td>Queens Court, Kalyani Nagar, , Pune, Maharashtra</td>\n",
       "      <td>4</td>\n",
       "      <td>North-West</td>\n",
       "      <td>Not provided</td>\n",
       "      <td>No</td>\n",
       "      <td>...</td>\n",
       "      <td>0</td>\n",
       "      <td>0</td>\n",
       "      <td>0</td>\n",
       "      <td>0</td>\n",
       "      <td>0</td>\n",
       "      <td>0</td>\n",
       "      <td>0</td>\n",
       "      <td>0</td>\n",
       "      <td>0.0</td>\n",
       "      <td>95000.0</td>\n",
       "    </tr>\n",
       "    <tr>\n",
       "      <th>4423</th>\n",
       "      <td>3</td>\n",
       "      <td>3</td>\n",
       "      <td>2200.0</td>\n",
       "      <td>Furnished</td>\n",
       "      <td>All</td>\n",
       "      <td>Panchshil Waterfront, Kalyani Nagar, , Pune, M...</td>\n",
       "      <td>9</td>\n",
       "      <td>No Direction</td>\n",
       "      <td>Vitrified</td>\n",
       "      <td>Yes</td>\n",
       "      <td>...</td>\n",
       "      <td>1</td>\n",
       "      <td>1</td>\n",
       "      <td>1</td>\n",
       "      <td>1</td>\n",
       "      <td>0</td>\n",
       "      <td>0</td>\n",
       "      <td>0</td>\n",
       "      <td>0</td>\n",
       "      <td>0.0</td>\n",
       "      <td>95000.0</td>\n",
       "    </tr>\n",
       "    <tr>\n",
       "      <th>2966</th>\n",
       "      <td>4</td>\n",
       "      <td>5</td>\n",
       "      <td>2500.0</td>\n",
       "      <td>Furnished</td>\n",
       "      <td>All</td>\n",
       "      <td>Vascon Marigold, Kalyani Nagar, , Pune, Mahara...</td>\n",
       "      <td>9</td>\n",
       "      <td>North-East</td>\n",
       "      <td>Vitrified</td>\n",
       "      <td>Yes</td>\n",
       "      <td>...</td>\n",
       "      <td>0</td>\n",
       "      <td>0</td>\n",
       "      <td>0</td>\n",
       "      <td>1</td>\n",
       "      <td>0</td>\n",
       "      <td>Maintenance 5000/ ((one time fee</td>\n",
       "      <td>91000</td>\n",
       "      <td>350000</td>\n",
       "      <td>5000.0</td>\n",
       "      <td>91000.0</td>\n",
       "    </tr>\n",
       "  </tbody>\n",
       "</table>\n",
       "<p>5 rows × 30 columns</p>\n",
       "</div>"
      ],
      "text/plain": [
       "      bedroom  bathrooms    area     furnishing avalable_for  \\\n",
       "1834        2          2     0.0      Furnished          All   \n",
       "8096        4          5     0.0  Semifurnished          All   \n",
       "4087        4          4  2400.0      Furnished  Family Only   \n",
       "4423        3          3  2200.0      Furnished          All   \n",
       "2966        4          5  2500.0      Furnished          All   \n",
       "\n",
       "                                                address  floor_number  \\\n",
       "1834  Diamond Bhalchandra Nagari, Ravet, , Pune, Mah...             3   \n",
       "8096  Panchshil Eon Waterfront, Eon Free Zone , , Pu...             1   \n",
       "4087   Queens Court, Kalyani Nagar, , Pune, Maharashtra             4   \n",
       "4423  Panchshil Waterfront, Kalyani Nagar, , Pune, M...             9   \n",
       "2966  Vascon Marigold, Kalyani Nagar, , Pune, Mahara...             9   \n",
       "\n",
       "            facing    floor_type gate_community  ... pooja_room  study_room  \\\n",
       "1834    South-West     Vitrified            Yes  ...          0           0   \n",
       "8096          East        Marble            Yes  ...          0           0   \n",
       "4087    North-West  Not provided             No  ...          0           0   \n",
       "4423  No Direction     Vitrified            Yes  ...          1           1   \n",
       "2966    North-East     Vitrified            Yes  ...          0           0   \n",
       "\n",
       "     others servant_room  store_room                   maintenance_amt  \\\n",
       "1834      0            0           0                                 0   \n",
       "8096      0            1           0                                 0   \n",
       "4087      0            0           0                                 0   \n",
       "4423      1            1           0                                 0   \n",
       "2966      0            1           0  Maintenance 5000/ ((one time fee   \n",
       "\n",
       "      brok_amt  deposit_amt mnt_amt         rent  \n",
       "1834         0        50000     0.0  123456789.0  \n",
       "8096     98000       300000     0.0      98000.0  \n",
       "4087         0            0     0.0      95000.0  \n",
       "4423         0            0     0.0      95000.0  \n",
       "2966     91000       350000  5000.0      91000.0  \n",
       "\n",
       "[5 rows x 30 columns]"
      ]
     },
     "execution_count": 6,
     "metadata": {},
     "output_type": "execute_result"
    }
   ],
   "source": [
    "df.sort_values(by = [target], ascending = False).head()"
   ]
  },
  {
   "cell_type": "markdown",
   "metadata": {},
   "source": [
    "There is some discrepancy in the first entry as the price is too large"
   ]
  },
  {
   "cell_type": "code",
   "execution_count": 7,
   "metadata": {},
   "outputs": [],
   "source": [
    "df.drop((df.loc[df['rent'] == max(df['rent'])]).index, inplace = True)"
   ]
  },
  {
   "cell_type": "code",
   "execution_count": 8,
   "metadata": {},
   "outputs": [
    {
     "data": {
      "image/png": "[encoded data removed]",
      "text/plain": [
       "<Figure size 432x288 with 1 Axes>"
      ]
     },
     "metadata": {
      "needs_background": "light"
     },
     "output_type": "display_data"
    }
   ],
   "source": [
    "df.boxplot(column = target)\n",
    "plt.show()"
   ]
  },
  {
   "cell_type": "code",
   "execution_count": 9,
   "metadata": {},
   "outputs": [
    {
     "data": {
      "image/png": "[encoded data removed]",
      "text/plain": [
       "<Figure size 432x288 with 1 Axes>"
      ]
     },
     "metadata": {
      "needs_background": "light"
     },
     "output_type": "display_data"
    }
   ],
   "source": [
    "df[target].hist(bins = 15)\n",
    "plt.xlabel(target)\n",
    "plt.ylabel('count')\n",
    "plt.show()"
   ]
  },
  {
   "cell_type": "markdown",
   "metadata": {},
   "source": [
    "Since distribution is right skewed we can apply a log transformation"
   ]
  },
  {
   "cell_type": "code",
   "execution_count": 10,
   "metadata": {},
   "outputs": [
    {
     "data": {
      "image/png": "[encoded data removed]",
      "text/plain": [
       "<Figure size 432x288 with 1 Axes>"
      ]
     },
     "metadata": {
      "needs_background": "light"
     },
     "output_type": "display_data"
    }
   ],
   "source": [
    "## log transformation\n",
    "\n",
    "df[target] = np.log(df[target])\n",
    "\n",
    "df[target].hist(bins = 15)\n",
    "plt.xlabel(target)\n",
    "plt.ylabel('count')\n",
    "plt.show()"
   ]
  },
  {
   "cell_type": "markdown",
   "metadata": {},
   "source": [
    "## Numerical Features"
   ]
  },
  {
   "cell_type": "code",
   "execution_count": 11,
   "metadata": {},
   "outputs": [
    {
     "data": {
      "text/html": [
       "<div>\n",
       "<style scoped>\n",
       "    .dataframe tbody tr th:only-of-type {\n",
       "        vertical-align: middle;\n",
       "    }\n",
       "\n",
       "    .dataframe tbody tr th {\n",
       "        vertical-align: top;\n",
       "    }\n",
       "\n",
       "    .dataframe thead th {\n",
       "        text-align: right;\n",
       "    }\n",
       "</style>\n",
       "<table border=\"1\" class=\"dataframe\">\n",
       "  <thead>\n",
       "    <tr style=\"text-align: right;\">\n",
       "      <th></th>\n",
       "      <th>bedroom</th>\n",
       "      <th>bathrooms</th>\n",
       "      <th>area</th>\n",
       "      <th>floor_number</th>\n",
       "      <th>parking</th>\n",
       "      <th>aggDur</th>\n",
       "      <th>noticeDur</th>\n",
       "      <th>lightbill</th>\n",
       "      <th>powerbackup</th>\n",
       "      <th>no_room</th>\n",
       "      <th>pooja_room</th>\n",
       "      <th>study_room</th>\n",
       "      <th>others</th>\n",
       "      <th>servant_room</th>\n",
       "      <th>store_room</th>\n",
       "      <th>brok_amt</th>\n",
       "      <th>deposit_amt</th>\n",
       "      <th>mnt_amt</th>\n",
       "    </tr>\n",
       "  </thead>\n",
       "  <tbody>\n",
       "    <tr>\n",
       "      <th>0</th>\n",
       "      <td>2</td>\n",
       "      <td>2</td>\n",
       "      <td>1050.0</td>\n",
       "      <td>5</td>\n",
       "      <td>0</td>\n",
       "      <td>11</td>\n",
       "      <td>2</td>\n",
       "      <td>0</td>\n",
       "      <td>2</td>\n",
       "      <td>1</td>\n",
       "      <td>0</td>\n",
       "      <td>0</td>\n",
       "      <td>0</td>\n",
       "      <td>0</td>\n",
       "      <td>0</td>\n",
       "      <td>0</td>\n",
       "      <td>3</td>\n",
       "      <td>0.0</td>\n",
       "    </tr>\n",
       "    <tr>\n",
       "      <th>1</th>\n",
       "      <td>2</td>\n",
       "      <td>2</td>\n",
       "      <td>760.0</td>\n",
       "      <td>5</td>\n",
       "      <td>2</td>\n",
       "      <td>11</td>\n",
       "      <td>1</td>\n",
       "      <td>0</td>\n",
       "      <td>2</td>\n",
       "      <td>1</td>\n",
       "      <td>0</td>\n",
       "      <td>0</td>\n",
       "      <td>0</td>\n",
       "      <td>0</td>\n",
       "      <td>0</td>\n",
       "      <td>0</td>\n",
       "      <td>40000</td>\n",
       "      <td>0.0</td>\n",
       "    </tr>\n",
       "    <tr>\n",
       "      <th>2</th>\n",
       "      <td>3</td>\n",
       "      <td>3</td>\n",
       "      <td>0.0</td>\n",
       "      <td>1</td>\n",
       "      <td>1</td>\n",
       "      <td>11</td>\n",
       "      <td>1</td>\n",
       "      <td>0</td>\n",
       "      <td>2</td>\n",
       "      <td>0</td>\n",
       "      <td>0</td>\n",
       "      <td>0</td>\n",
       "      <td>1</td>\n",
       "      <td>0</td>\n",
       "      <td>0</td>\n",
       "      <td>23000</td>\n",
       "      <td>60000</td>\n",
       "      <td>1.0</td>\n",
       "    </tr>\n",
       "    <tr>\n",
       "      <th>3</th>\n",
       "      <td>1</td>\n",
       "      <td>1</td>\n",
       "      <td>628.0</td>\n",
       "      <td>3</td>\n",
       "      <td>1</td>\n",
       "      <td>11</td>\n",
       "      <td>1</td>\n",
       "      <td>0</td>\n",
       "      <td>0</td>\n",
       "      <td>1</td>\n",
       "      <td>0</td>\n",
       "      <td>0</td>\n",
       "      <td>0</td>\n",
       "      <td>0</td>\n",
       "      <td>0</td>\n",
       "      <td>0</td>\n",
       "      <td>40000</td>\n",
       "      <td>0.0</td>\n",
       "    </tr>\n",
       "    <tr>\n",
       "      <th>4</th>\n",
       "      <td>2</td>\n",
       "      <td>2</td>\n",
       "      <td>668.0</td>\n",
       "      <td>6</td>\n",
       "      <td>1</td>\n",
       "      <td>12</td>\n",
       "      <td>1</td>\n",
       "      <td>1</td>\n",
       "      <td>1</td>\n",
       "      <td>1</td>\n",
       "      <td>0</td>\n",
       "      <td>0</td>\n",
       "      <td>0</td>\n",
       "      <td>0</td>\n",
       "      <td>0</td>\n",
       "      <td>0</td>\n",
       "      <td>20</td>\n",
       "      <td>0.0</td>\n",
       "    </tr>\n",
       "    <tr>\n",
       "      <th>...</th>\n",
       "      <td>...</td>\n",
       "      <td>...</td>\n",
       "      <td>...</td>\n",
       "      <td>...</td>\n",
       "      <td>...</td>\n",
       "      <td>...</td>\n",
       "      <td>...</td>\n",
       "      <td>...</td>\n",
       "      <td>...</td>\n",
       "      <td>...</td>\n",
       "      <td>...</td>\n",
       "      <td>...</td>\n",
       "      <td>...</td>\n",
       "      <td>...</td>\n",
       "      <td>...</td>\n",
       "      <td>...</td>\n",
       "      <td>...</td>\n",
       "      <td>...</td>\n",
       "    </tr>\n",
       "    <tr>\n",
       "      <th>10879</th>\n",
       "      <td>2</td>\n",
       "      <td>1</td>\n",
       "      <td>750.0</td>\n",
       "      <td>0</td>\n",
       "      <td>1</td>\n",
       "      <td>11</td>\n",
       "      <td>1</td>\n",
       "      <td>0</td>\n",
       "      <td>2</td>\n",
       "      <td>0</td>\n",
       "      <td>0</td>\n",
       "      <td>0</td>\n",
       "      <td>1</td>\n",
       "      <td>0</td>\n",
       "      <td>0</td>\n",
       "      <td>15000</td>\n",
       "      <td>30000</td>\n",
       "      <td>0.0</td>\n",
       "    </tr>\n",
       "    <tr>\n",
       "      <th>10880</th>\n",
       "      <td>2</td>\n",
       "      <td>1</td>\n",
       "      <td>0.0</td>\n",
       "      <td>4</td>\n",
       "      <td>1</td>\n",
       "      <td>0</td>\n",
       "      <td>3</td>\n",
       "      <td>1</td>\n",
       "      <td>0</td>\n",
       "      <td>0</td>\n",
       "      <td>0</td>\n",
       "      <td>0</td>\n",
       "      <td>1</td>\n",
       "      <td>0</td>\n",
       "      <td>0</td>\n",
       "      <td>0</td>\n",
       "      <td>22000</td>\n",
       "      <td>0.0</td>\n",
       "    </tr>\n",
       "    <tr>\n",
       "      <th>10881</th>\n",
       "      <td>3</td>\n",
       "      <td>4</td>\n",
       "      <td>2390.0</td>\n",
       "      <td>9</td>\n",
       "      <td>2</td>\n",
       "      <td>22</td>\n",
       "      <td>1</td>\n",
       "      <td>0</td>\n",
       "      <td>2</td>\n",
       "      <td>0</td>\n",
       "      <td>0</td>\n",
       "      <td>0</td>\n",
       "      <td>0</td>\n",
       "      <td>1</td>\n",
       "      <td>0</td>\n",
       "      <td>55000</td>\n",
       "      <td>180000</td>\n",
       "      <td>0.0</td>\n",
       "    </tr>\n",
       "    <tr>\n",
       "      <th>10882</th>\n",
       "      <td>2</td>\n",
       "      <td>2</td>\n",
       "      <td>563.0</td>\n",
       "      <td>2</td>\n",
       "      <td>1</td>\n",
       "      <td>11</td>\n",
       "      <td>2</td>\n",
       "      <td>0</td>\n",
       "      <td>0</td>\n",
       "      <td>1</td>\n",
       "      <td>0</td>\n",
       "      <td>0</td>\n",
       "      <td>0</td>\n",
       "      <td>0</td>\n",
       "      <td>0</td>\n",
       "      <td>0</td>\n",
       "      <td>3</td>\n",
       "      <td>0.0</td>\n",
       "    </tr>\n",
       "    <tr>\n",
       "      <th>10883</th>\n",
       "      <td>1</td>\n",
       "      <td>1</td>\n",
       "      <td>500.0</td>\n",
       "      <td>2</td>\n",
       "      <td>1</td>\n",
       "      <td>0</td>\n",
       "      <td>0</td>\n",
       "      <td>1</td>\n",
       "      <td>0</td>\n",
       "      <td>1</td>\n",
       "      <td>0</td>\n",
       "      <td>0</td>\n",
       "      <td>0</td>\n",
       "      <td>0</td>\n",
       "      <td>0</td>\n",
       "      <td>0</td>\n",
       "      <td>0</td>\n",
       "      <td>0.0</td>\n",
       "    </tr>\n",
       "  </tbody>\n",
       "</table>\n",
       "<p>10883 rows × 18 columns</p>\n",
       "</div>"
      ],
      "text/plain": [
       "       bedroom  bathrooms    area  floor_number  parking  aggDur  noticeDur  \\\n",
       "0            2          2  1050.0             5        0      11          2   \n",
       "1            2          2   760.0             5        2      11          1   \n",
       "2            3          3     0.0             1        1      11          1   \n",
       "3            1          1   628.0             3        1      11          1   \n",
       "4            2          2   668.0             6        1      12          1   \n",
       "...        ...        ...     ...           ...      ...     ...        ...   \n",
       "10879        2          1   750.0             0        1      11          1   \n",
       "10880        2          1     0.0             4        1       0          3   \n",
       "10881        3          4  2390.0             9        2      22          1   \n",
       "10882        2          2   563.0             2        1      11          2   \n",
       "10883        1          1   500.0             2        1       0          0   \n",
       "\n",
       "       lightbill  powerbackup  no_room  pooja_room  study_room  others  \\\n",
       "0              0            2        1           0           0       0   \n",
       "1              0            2        1           0           0       0   \n",
       "2              0            2        0           0           0       1   \n",
       "3              0            0        1           0           0       0   \n",
       "4              1            1        1           0           0       0   \n",
       "...          ...          ...      ...         ...         ...     ...   \n",
       "10879          0            2        0           0           0       1   \n",
       "10880          1            0        0           0           0       1   \n",
       "10881          0            2        0           0           0       0   \n",
       "10882          0            0        1           0           0       0   \n",
       "10883          1            0        1           0           0       0   \n",
       "\n",
       "       servant_room  store_room  brok_amt  deposit_amt  mnt_amt  \n",
       "0                 0           0         0            3      0.0  \n",
       "1                 0           0         0        40000      0.0  \n",
       "2                 0           0     23000        60000      1.0  \n",
       "3                 0           0         0        40000      0.0  \n",
       "4                 0           0         0           20      0.0  \n",
       "...             ...         ...       ...          ...      ...  \n",
       "10879             0           0     15000        30000      0.0  \n",
       "10880             0           0         0        22000      0.0  \n",
       "10881             1           0     55000       180000      0.0  \n",
       "10882             0           0         0            3      0.0  \n",
       "10883             0           0         0            0      0.0  \n",
       "\n",
       "[10883 rows x 18 columns]"
      ]
     },
     "execution_count": 11,
     "metadata": {},
     "output_type": "execute_result"
    }
   ],
   "source": [
    "num_features = [feature for feature in df.columns if df[feature].dtype != 'O' and feature != target]\n",
    "\n",
    "df[num_features].head()"
   ]
  },
  {
   "cell_type": "markdown",
   "metadata": {},
   "source": [
    "### Discrete Features"
   ]
  },
  {
   "cell_type": "code",
   "execution_count": 12,
   "metadata": {},
   "outputs": [
    {
     "name": "stdout",
     "output_type": "stream",
     "text": [
      "['bedroom', 'bathrooms', 'floor_number', 'parking', 'noticeDur', 'lightbill', 'powerbackup', 'no_room', 'pooja_room', 'study_room', 'others', 'servant_room', 'store_room']\n"
     ]
    }
   ],
   "source": [
    "dis_features = [feature for feature in num_features if len(df[feature].unique()) < 20 and feature != target]\n",
    "\n",
    "print(dis_features)"
   ]
  },
  {
   "cell_type": "markdown",
   "metadata": {},
   "source": [
    "#### vs Target Variable"
   ]
  },
  {
   "cell_type": "code",
   "execution_count": 13,
   "metadata": {},
   "outputs": [
    {
     "data": {
      "image/png": "[encoded data removed]",
      "text/plain": [
       "<Figure size 432x288 with 1 Axes>"
      ]
     },
     "metadata": {
      "needs_background": "light"
     },
     "output_type": "display_data"
    },
    {
     "data": {
      "image/png": "[encoded data removed]",
      "text/plain": [
       "<Figure size 432x288 with 1 Axes>"
      ]
     },
     "metadata": {
      "needs_background": "light"
     },
     "output_type": "display_data"
    },
    {
     "data": {
      "image/png": "[encoded data removed]",
      "text/plain": [
       "<Figure size 432x288 with 1 Axes>"
      ]
     },
     "metadata": {
      "needs_background": "light"
     },
     "output_type": "display_data"
    },
    {
     "data": {
      "image/png": "[encoded data removed]",
      "text/plain": [
       "<Figure size 432x288 with 1 Axes>"
      ]
     },
     "metadata": {
      "needs_background": "light"
     },
     "output_type": "display_data"
    },
    {
     "data": {
      "image/png": "[encoded data removed]",
      "text/plain": [
       "<Figure size 432x288 with 1 Axes>"
      ]
     },
     "metadata": {
      "needs_background": "light"
     },
     "output_type": "display_data"
    },
    {
     "data": {
      "image/png": "[encoded data removed]",
      "text/plain": [
       "<Figure size 432x288 with 1 Axes>"
      ]
     },
     "metadata": {
      "needs_background": "light"
     },
     "output_type": "display_data"
    },
    {
     "data": {
      "image/png": "[encoded data removed]",
      "text/plain": [
       "<Figure size 432x288 with 1 Axes>"
      ]
     },
     "metadata": {
      "needs_background": "light"
     },
     "output_type": "display_data"
    },
    {
     "data": {
      "image/png": "[encoded data removed]",
      "text/plain": [
       "<Figure size 432x288 with 1 Axes>"
      ]
     },
     "metadata": {
      "needs_background": "light"
     },
     "output_type": "display_data"
    },
    {
     "data": {
      "image/png": "[encoded data removed]",
      "text/plain": [
       "<Figure size 432x288 with 1 Axes>"
      ]
     },
     "metadata": {
      "needs_background": "light"
     },
     "output_type": "display_data"
    },
    {
     "data": {
      "image/png": "[encoded data removed]",
      "text/plain": [
       "<Figure size 432x288 with 1 Axes>"
      ]
     },
     "metadata": {
      "needs_background": "light"
     },
     "output_type": "display_data"
    },
    {
     "data": {
      "image/png": "[encoded data removed]",
      "text/plain": [
       "<Figure size 432x288 with 1 Axes>"
      ]
     },
     "metadata": {
      "needs_background": "light"
     },
     "output_type": "display_data"
    },
    {
     "data": {
      "image/png": "[encoded data removed]",
      "text/plain": [
       "<Figure size 432x288 with 1 Axes>"
      ]
     },
     "metadata": {
      "needs_background": "light"
     },
     "output_type": "display_data"
    },
    {
     "data": {
      "image/png": "[encoded data removed]",
      "text/plain": [
       "<Figure size 432x288 with 1 Axes>"
      ]
     },
     "metadata": {
      "needs_background": "light"
     },
     "output_type": "display_data"
    }
   ],
   "source": [
    "for feature in dis_features:\n",
    "    df.groupby(feature)[target].median().plot.bar()\n",
    "    \n",
    "    plt.xlabel(feature)\n",
    "    plt.ylabel(target)\n",
    "    plt.title('{} vs log({})_median'.format(feature, target))\n",
    "    plt.show()"
   ]
  },
  {
   "cell_type": "markdown",
   "metadata": {},
   "source": [
    "### Continuous Features"
   ]
  },
  {
   "cell_type": "code",
   "execution_count": 14,
   "metadata": {},
   "outputs": [
    {
     "name": "stdout",
     "output_type": "stream",
     "text": [
      "['area', 'aggDur', 'brok_amt', 'deposit_amt', 'mnt_amt']\n"
     ]
    }
   ],
   "source": [
    "con_features = [feature for feature in num_features if feature not in dis_features and feature != target]\n",
    "\n",
    "print(con_features)"
   ]
  },
  {
   "cell_type": "markdown",
   "metadata": {},
   "source": [
    "#### Distribution"
   ]
  },
  {
   "cell_type": "code",
   "execution_count": 15,
   "metadata": {},
   "outputs": [
    {
     "data": {
      "image/png": "[encoded data removed]",
      "text/plain": [
       "<Figure size 432x288 with 1 Axes>"
      ]
     },
     "metadata": {
      "needs_background": "light"
     },
     "output_type": "display_data"
    },
    {
     "data": {
      "image/png": "[encoded data removed]",
      "text/plain": [
       "<Figure size 432x288 with 1 Axes>"
      ]
     },
     "metadata": {
      "needs_background": "light"
     },
     "output_type": "display_data"
    },
    {
     "data": {
      "image/png": "[encoded data removed]",
      "text/plain": [
       "<Figure size 432x288 with 1 Axes>"
      ]
     },
     "metadata": {
      "needs_background": "light"
     },
     "output_type": "display_data"
    },
    {
     "data": {
      "image/png": "[encoded data removed]",
      "text/plain": [
       "<Figure size 432x288 with 1 Axes>"
      ]
     },
     "metadata": {
      "needs_background": "light"
     },
     "output_type": "display_data"
    },
    {
     "data": {
      "image/png": "[encoded data removed]",
      "text/plain": [
       "<Figure size 432x288 with 1 Axes>"
      ]
     },
     "metadata": {
      "needs_background": "light"
     },
     "output_type": "display_data"
    }
   ],
   "source": [
    "for feature in con_features:\n",
    "    df[feature].hist(bins = 15)\n",
    "    \n",
    "    plt.xlabel(feature)\n",
    "    plt.ylabel('count')\n",
    "    plt.show()"
   ]
  },
  {
   "cell_type": "markdown",
   "metadata": {},
   "source": [
    "#### Dealing with outliers"
   ]
  },
  {
   "cell_type": "code",
   "execution_count": 16,
   "metadata": {},
   "outputs": [
    {
     "name": "stdout",
     "output_type": "stream",
     "text": [
      "Values being replaced: 102\n"
     ]
    },
    {
     "data": {
      "image/png": "[encoded data removed]",
      "text/plain": [
       "<Figure size 432x288 with 1 Axes>"
      ]
     },
     "metadata": {
      "needs_background": "light"
     },
     "output_type": "display_data"
    },
    {
     "name": "stdout",
     "output_type": "stream",
     "text": [
      "Values being replaced: 205\n"
     ]
    },
    {
     "data": {
      "image/png": "[encoded data removed]",
      "text/plain": [
       "<Figure size 432x288 with 1 Axes>"
      ]
     },
     "metadata": {
      "needs_background": "light"
     },
     "output_type": "display_data"
    },
    {
     "name": "stdout",
     "output_type": "stream",
     "text": [
      "Values being replaced: 574\n"
     ]
    },
    {
     "data": {
      "image/png": "[encoded data removed]",
      "text/plain": [
       "<Figure size 432x288 with 1 Axes>"
      ]
     },
     "metadata": {
      "needs_background": "light"
     },
     "output_type": "display_data"
    },
    {
     "name": "stdout",
     "output_type": "stream",
     "text": [
      "Values being replaced: 285\n"
     ]
    },
    {
     "data": {
      "image/png": "[encoded data removed]",
      "text/plain": [
       "<Figure size 432x288 with 1 Axes>"
      ]
     },
     "metadata": {
      "needs_background": "light"
     },
     "output_type": "display_data"
    },
    {
     "name": "stdout",
     "output_type": "stream",
     "text": [
      "Values being replaced: 330\n"
     ]
    },
    {
     "data": {
      "image/png": "[encoded data removed]",
      "text/plain": [
       "<Figure size 432x288 with 1 Axes>"
      ]
     },
     "metadata": {
      "needs_background": "light"
     },
     "output_type": "display_data"
    }
   ],
   "source": [
    "data = df.copy()\n",
    "\n",
    "for feature in con_features:\n",
    "    \n",
    "    extreme = int(data[feature].median() + 2 * data[feature].std()) + 1\n",
    "    print('Values being replaced: {}'.format(len(data.loc[data[feature] > extreme])))\n",
    "    data[feature] = np.where(data[feature] > extreme, extreme, data[feature])\n",
    "    data[feature] = data[feature] ** 0.5\n",
    "    \n",
    "    data[feature].hist(bins = 15)\n",
    "    \n",
    "    plt.xlabel(feature)\n",
    "    plt.ylabel('count')\n",
    "    plt.show()"
   ]
  },
  {
   "cell_type": "markdown",
   "metadata": {},
   "source": [
    "#### vs Target Variable"
   ]
  },
  {
   "cell_type": "code",
   "execution_count": 17,
   "metadata": {},
   "outputs": [
    {
     "data": {
      "image/png": "[encoded data removed]",
      "text/plain": [
       "<Figure size 432x288 with 1 Axes>"
      ]
     },
     "metadata": {
      "needs_background": "light"
     },
     "output_type": "display_data"
    },
    {
     "data": {
      "image/png": "[encoded data removed]",
      "text/plain": [
       "<Figure size 432x288 with 1 Axes>"
      ]
     },
     "metadata": {
      "needs_background": "light"
     },
     "output_type": "display_data"
    },
    {
     "data": {
      "image/png": "[encoded data removed]",
      "text/plain": [
       "<Figure size 432x288 with 1 Axes>"
      ]
     },
     "metadata": {
      "needs_background": "light"
     },
     "output_type": "display_data"
    },
    {
     "data": {
      "image/png": "[encoded data removed]",
      "text/plain": [
       "<Figure size 432x288 with 1 Axes>"
      ]
     },
     "metadata": {
      "needs_background": "light"
     },
     "output_type": "display_data"
    },
    {
     "data": {
      "image/png": "[encoded data removed]",
      "text/plain": [
       "<Figure size 432x288 with 1 Axes>"
      ]
     },
     "metadata": {
      "needs_background": "light"
     },
     "output_type": "display_data"
    }
   ],
   "source": [
    "data = df.copy()\n",
    "\n",
    "for feature in con_features:\n",
    "    \n",
    "    extreme = int(data[feature].median() + 2 * data[feature].std()) + 1\n",
    "    data[feature] = np.where(data[feature] > extreme, extreme, data[feature])\n",
    "    data[feature] = data[feature] ** 0.5\n",
    "    \n",
    "    plt.scatter(data[feature], data[target])\n",
    "    \n",
    "    plt.xlabel(feature)\n",
    "    plt.ylabel(target)\n",
    "    plt.show()"
   ]
  },
  {
   "cell_type": "markdown",
   "metadata": {},
   "source": [
    "## Categorical Features"
   ]
  },
  {
   "cell_type": "code",
   "execution_count": 18,
   "metadata": {},
   "outputs": [
    {
     "data": {
      "text/html": [
       "<div>\n",
       "<style scoped>\n",
       "    .dataframe tbody tr th:only-of-type {\n",
       "        vertical-align: middle;\n",
       "    }\n",
       "\n",
       "    .dataframe tbody tr th {\n",
       "        vertical-align: top;\n",
       "    }\n",
       "\n",
       "    .dataframe thead th {\n",
       "        text-align: right;\n",
       "    }\n",
       "</style>\n",
       "<table border=\"1\" class=\"dataframe\">\n",
       "  <thead>\n",
       "    <tr style=\"text-align: right;\">\n",
       "      <th></th>\n",
       "      <th>furnishing</th>\n",
       "      <th>avalable_for</th>\n",
       "      <th>address</th>\n",
       "      <th>facing</th>\n",
       "      <th>floor_type</th>\n",
       "      <th>gate_community</th>\n",
       "      <th>corner_pro</th>\n",
       "      <th>wheelchairadption</th>\n",
       "      <th>petfacility</th>\n",
       "      <th>propertyage</th>\n",
       "      <th>maintenance_amt</th>\n",
       "    </tr>\n",
       "  </thead>\n",
       "  <tbody>\n",
       "    <tr>\n",
       "      <th>0</th>\n",
       "      <td>Unfurnished</td>\n",
       "      <td>All</td>\n",
       "      <td>Sadguru hights, Pingale Wasti, , Pune, Maharas...</td>\n",
       "      <td>West</td>\n",
       "      <td>Marble</td>\n",
       "      <td>Yes</td>\n",
       "      <td>No</td>\n",
       "      <td>None</td>\n",
       "      <td>None</td>\n",
       "      <td>5 to 10 Year Old</td>\n",
       "      <td>0</td>\n",
       "    </tr>\n",
       "    <tr>\n",
       "      <th>1</th>\n",
       "      <td>Unfurnished</td>\n",
       "      <td>All</td>\n",
       "      <td>Manav Silver Springs, Wagholi, , Pune, Maharas...</td>\n",
       "      <td>East</td>\n",
       "      <td>Vitrified</td>\n",
       "      <td>Yes</td>\n",
       "      <td>Yes</td>\n",
       "      <td>None</td>\n",
       "      <td>None</td>\n",
       "      <td>1 to 5 Year Old</td>\n",
       "      <td>0</td>\n",
       "    </tr>\n",
       "    <tr>\n",
       "      <th>2</th>\n",
       "      <td>Semifurnished</td>\n",
       "      <td>All</td>\n",
       "      <td>Saarrthi Souvenir, Mahalunge, , Pune, Maharashtra</td>\n",
       "      <td>South-West</td>\n",
       "      <td>Vitrified</td>\n",
       "      <td>Yes</td>\n",
       "      <td>No</td>\n",
       "      <td>None</td>\n",
       "      <td>None</td>\n",
       "      <td>1 to 5 Year Old</td>\n",
       "      <td>Maintenance 1/ (/ month</td>\n",
       "    </tr>\n",
       "    <tr>\n",
       "      <th>3</th>\n",
       "      <td>Furnished</td>\n",
       "      <td>Family Only</td>\n",
       "      <td>Dhan Residency, Wanowrie, , Pune, Maharashtra</td>\n",
       "      <td>East</td>\n",
       "      <td>Mosaic</td>\n",
       "      <td>Yes</td>\n",
       "      <td>No</td>\n",
       "      <td>None</td>\n",
       "      <td>None</td>\n",
       "      <td>10+ Year Old</td>\n",
       "      <td>0</td>\n",
       "    </tr>\n",
       "    <tr>\n",
       "      <th>4</th>\n",
       "      <td>Semifurnished</td>\n",
       "      <td>Family , Bachelors (Men Only)</td>\n",
       "      <td>Saptsiddhi Savali Homes, Uruli Devachi, , Pune...</td>\n",
       "      <td>South</td>\n",
       "      <td>Polished concrete</td>\n",
       "      <td>Yes</td>\n",
       "      <td>Yes</td>\n",
       "      <td>None</td>\n",
       "      <td>None</td>\n",
       "      <td>1 to 5 Year Old</td>\n",
       "      <td>0</td>\n",
       "    </tr>\n",
       "  </tbody>\n",
       "</table>\n",
       "</div>"
      ],
      "text/plain": [
       "      furnishing                   avalable_for  \\\n",
       "0    Unfurnished                            All   \n",
       "1    Unfurnished                            All   \n",
       "2  Semifurnished                            All   \n",
       "3      Furnished                    Family Only   \n",
       "4  Semifurnished  Family , Bachelors (Men Only)   \n",
       "\n",
       "                                             address      facing  \\\n",
       "0  Sadguru hights, Pingale Wasti, , Pune, Maharas...        West   \n",
       "1  Manav Silver Springs, Wagholi, , Pune, Maharas...        East   \n",
       "2  Saarrthi Souvenir, Mahalunge, , Pune, Maharashtra  South-West   \n",
       "3      Dhan Residency, Wanowrie, , Pune, Maharashtra        East   \n",
       "4  Saptsiddhi Savali Homes, Uruli Devachi, , Pune...       South   \n",
       "\n",
       "          floor_type gate_community corner_pro wheelchairadption petfacility  \\\n",
       "0             Marble            Yes         No              None        None   \n",
       "1          Vitrified            Yes        Yes              None        None   \n",
       "2          Vitrified            Yes         No              None        None   \n",
       "3             Mosaic            Yes         No              None        None   \n",
       "4  Polished concrete            Yes        Yes              None        None   \n",
       "\n",
       "        propertyage          maintenance_amt  \n",
       "0  5 to 10 Year Old                        0  \n",
       "1   1 to 5 Year Old                        0  \n",
       "2   1 to 5 Year Old  Maintenance 1/ (/ month  \n",
       "3      10+ Year Old                        0  \n",
       "4   1 to 5 Year Old                        0  "
      ]
     },
     "execution_count": 18,
     "metadata": {},
     "output_type": "execute_result"
    }
   ],
   "source": [
    "cat_features = [feature for feature in df.columns if feature not in num_features and feature != target]\n",
    "\n",
    "df[cat_features].head()"
   ]
  },
  {
   "cell_type": "code",
   "execution_count": 19,
   "metadata": {},
   "outputs": [
    {
     "name": "stdout",
     "output_type": "stream",
     "text": [
      "furnishing: 4 categories\n",
      "avalable_for: 8 categories\n",
      "address: 6387 categories\n",
      "facing: 9 categories\n",
      "floor_type: 15 categories\n",
      "gate_community: 2 categories\n",
      "corner_pro: 2 categories\n",
      "wheelchairadption: 2 categories\n",
      "petfacility: 2 categories\n",
      "propertyage: 6 categories\n",
      "maintenance_amt: 174 categories\n"
     ]
    }
   ],
   "source": [
    "for feature in cat_features:\n",
    "    print('{}: {} categories'.format(feature, len(df[feature].unique())))"
   ]
  },
  {
   "cell_type": "markdown",
   "metadata": {},
   "source": [
    "### Encoding addresses by average rent in the area"
   ]
  },
  {
   "cell_type": "code",
   "execution_count": 20,
   "metadata": {},
   "outputs": [],
   "source": [
    "area = list(df['address'].astype(str))\n",
    "\n",
    "area_new = []\n",
    "\n",
    "for a in area:\n",
    "    area_new.append(a[a.find(',') + 1: a.find(',', a.find(',') + 1)])\n",
    "    \n",
    "area_new = np.array(area_new)"
   ]
  },
  {
   "cell_type": "code",
   "execution_count": 21,
   "metadata": {},
   "outputs": [
    {
     "data": {
      "text/html": [
       "<div>\n",
       "<style scoped>\n",
       "    .dataframe tbody tr th:only-of-type {\n",
       "        vertical-align: middle;\n",
       "    }\n",
       "\n",
       "    .dataframe tbody tr th {\n",
       "        vertical-align: top;\n",
       "    }\n",
       "\n",
       "    .dataframe thead th {\n",
       "        text-align: right;\n",
       "    }\n",
       "</style>\n",
       "<table border=\"1\" class=\"dataframe\">\n",
       "  <thead>\n",
       "    <tr style=\"text-align: right;\">\n",
       "      <th></th>\n",
       "      <th>bedroom</th>\n",
       "      <th>bathrooms</th>\n",
       "      <th>area</th>\n",
       "      <th>furnishing</th>\n",
       "      <th>avalable_for</th>\n",
       "      <th>address</th>\n",
       "      <th>floor_number</th>\n",
       "      <th>facing</th>\n",
       "      <th>floor_type</th>\n",
       "      <th>gate_community</th>\n",
       "      <th>...</th>\n",
       "      <th>study_room</th>\n",
       "      <th>others</th>\n",
       "      <th>servant_room</th>\n",
       "      <th>store_room</th>\n",
       "      <th>maintenance_amt</th>\n",
       "      <th>brok_amt</th>\n",
       "      <th>deposit_amt</th>\n",
       "      <th>mnt_amt</th>\n",
       "      <th>rent</th>\n",
       "      <th>expo_rent</th>\n",
       "    </tr>\n",
       "  </thead>\n",
       "  <tbody>\n",
       "    <tr>\n",
       "      <th>0</th>\n",
       "      <td>2</td>\n",
       "      <td>2</td>\n",
       "      <td>1050.0</td>\n",
       "      <td>Unfurnished</td>\n",
       "      <td>All</td>\n",
       "      <td>Pingale Wasti</td>\n",
       "      <td>5</td>\n",
       "      <td>West</td>\n",
       "      <td>Marble</td>\n",
       "      <td>Yes</td>\n",
       "      <td>...</td>\n",
       "      <td>0</td>\n",
       "      <td>0</td>\n",
       "      <td>0</td>\n",
       "      <td>0</td>\n",
       "      <td>0</td>\n",
       "      <td>0</td>\n",
       "      <td>3</td>\n",
       "      <td>0.0</td>\n",
       "      <td>9.903488</td>\n",
       "      <td>20000.0</td>\n",
       "    </tr>\n",
       "    <tr>\n",
       "      <th>1</th>\n",
       "      <td>2</td>\n",
       "      <td>2</td>\n",
       "      <td>760.0</td>\n",
       "      <td>Unfurnished</td>\n",
       "      <td>All</td>\n",
       "      <td>Wagholi</td>\n",
       "      <td>5</td>\n",
       "      <td>East</td>\n",
       "      <td>Vitrified</td>\n",
       "      <td>Yes</td>\n",
       "      <td>...</td>\n",
       "      <td>0</td>\n",
       "      <td>0</td>\n",
       "      <td>0</td>\n",
       "      <td>0</td>\n",
       "      <td>0</td>\n",
       "      <td>0</td>\n",
       "      <td>40000</td>\n",
       "      <td>0.0</td>\n",
       "      <td>9.546813</td>\n",
       "      <td>14000.0</td>\n",
       "    </tr>\n",
       "    <tr>\n",
       "      <th>2</th>\n",
       "      <td>3</td>\n",
       "      <td>3</td>\n",
       "      <td>0.0</td>\n",
       "      <td>Semifurnished</td>\n",
       "      <td>All</td>\n",
       "      <td>Mahalunge</td>\n",
       "      <td>1</td>\n",
       "      <td>South-West</td>\n",
       "      <td>Vitrified</td>\n",
       "      <td>Yes</td>\n",
       "      <td>...</td>\n",
       "      <td>0</td>\n",
       "      <td>1</td>\n",
       "      <td>0</td>\n",
       "      <td>0</td>\n",
       "      <td>Maintenance 1/ (/ month</td>\n",
       "      <td>23000</td>\n",
       "      <td>60000</td>\n",
       "      <td>1.0</td>\n",
       "      <td>10.043206</td>\n",
       "      <td>22999.0</td>\n",
       "    </tr>\n",
       "    <tr>\n",
       "      <th>3</th>\n",
       "      <td>1</td>\n",
       "      <td>1</td>\n",
       "      <td>628.0</td>\n",
       "      <td>Furnished</td>\n",
       "      <td>Family Only</td>\n",
       "      <td>Wanowrie</td>\n",
       "      <td>3</td>\n",
       "      <td>East</td>\n",
       "      <td>Mosaic</td>\n",
       "      <td>Yes</td>\n",
       "      <td>...</td>\n",
       "      <td>0</td>\n",
       "      <td>0</td>\n",
       "      <td>0</td>\n",
       "      <td>0</td>\n",
       "      <td>0</td>\n",
       "      <td>0</td>\n",
       "      <td>40000</td>\n",
       "      <td>0.0</td>\n",
       "      <td>9.472705</td>\n",
       "      <td>13000.0</td>\n",
       "    </tr>\n",
       "    <tr>\n",
       "      <th>4</th>\n",
       "      <td>2</td>\n",
       "      <td>2</td>\n",
       "      <td>668.0</td>\n",
       "      <td>Semifurnished</td>\n",
       "      <td>Family , Bachelors (Men Only)</td>\n",
       "      <td>Uruli Devachi</td>\n",
       "      <td>6</td>\n",
       "      <td>South</td>\n",
       "      <td>Polished concrete</td>\n",
       "      <td>Yes</td>\n",
       "      <td>...</td>\n",
       "      <td>0</td>\n",
       "      <td>0</td>\n",
       "      <td>0</td>\n",
       "      <td>0</td>\n",
       "      <td>0</td>\n",
       "      <td>0</td>\n",
       "      <td>20</td>\n",
       "      <td>0.0</td>\n",
       "      <td>8.922658</td>\n",
       "      <td>7500.0</td>\n",
       "    </tr>\n",
       "  </tbody>\n",
       "</table>\n",
       "<p>5 rows × 31 columns</p>\n",
       "</div>"
      ],
      "text/plain": [
       "   bedroom  bathrooms    area     furnishing                   avalable_for  \\\n",
       "0        2          2  1050.0    Unfurnished                            All   \n",
       "1        2          2   760.0    Unfurnished                            All   \n",
       "2        3          3     0.0  Semifurnished                            All   \n",
       "3        1          1   628.0      Furnished                    Family Only   \n",
       "4        2          2   668.0  Semifurnished  Family , Bachelors (Men Only)   \n",
       "\n",
       "          address  floor_number      facing         floor_type gate_community  \\\n",
       "0   Pingale Wasti             5        West             Marble            Yes   \n",
       "1         Wagholi             5        East          Vitrified            Yes   \n",
       "2       Mahalunge             1  South-West          Vitrified            Yes   \n",
       "3        Wanowrie             3        East             Mosaic            Yes   \n",
       "4   Uruli Devachi             6       South  Polished concrete            Yes   \n",
       "\n",
       "   ... study_room  others servant_room store_room          maintenance_amt  \\\n",
       "0  ...          0       0            0          0                        0   \n",
       "1  ...          0       0            0          0                        0   \n",
       "2  ...          0       1            0          0  Maintenance 1/ (/ month   \n",
       "3  ...          0       0            0          0                        0   \n",
       "4  ...          0       0            0          0                        0   \n",
       "\n",
       "   brok_amt  deposit_amt  mnt_amt       rent  expo_rent  \n",
       "0         0            3      0.0   9.903488    20000.0  \n",
       "1         0        40000      0.0   9.546813    14000.0  \n",
       "2     23000        60000      1.0  10.043206    22999.0  \n",
       "3         0        40000      0.0   9.472705    13000.0  \n",
       "4         0           20      0.0   8.922658     7500.0  \n",
       "\n",
       "[5 rows x 31 columns]"
      ]
     },
     "execution_count": 21,
     "metadata": {},
     "output_type": "execute_result"
    }
   ],
   "source": [
    "df['address'] = area_new\n",
    "df['expo_rent'] = np.e ** df['rent']\n",
    "df.head()"
   ]
  },
  {
   "cell_type": "code",
   "execution_count": 22,
   "metadata": {},
   "outputs": [
    {
     "data": {
      "text/html": [
       "<div>\n",
       "<style scoped>\n",
       "    .dataframe tbody tr th:only-of-type {\n",
       "        vertical-align: middle;\n",
       "    }\n",
       "\n",
       "    .dataframe tbody tr th {\n",
       "        vertical-align: top;\n",
       "    }\n",
       "\n",
       "    .dataframe thead th {\n",
       "        text-align: right;\n",
       "    }\n",
       "</style>\n",
       "<table border=\"1\" class=\"dataframe\">\n",
       "  <thead>\n",
       "    <tr style=\"text-align: right;\">\n",
       "      <th></th>\n",
       "      <th>bedroom</th>\n",
       "      <th>bathrooms</th>\n",
       "      <th>area</th>\n",
       "      <th>furnishing</th>\n",
       "      <th>avalable_for</th>\n",
       "      <th>address</th>\n",
       "      <th>floor_number</th>\n",
       "      <th>facing</th>\n",
       "      <th>floor_type</th>\n",
       "      <th>gate_community</th>\n",
       "      <th>...</th>\n",
       "      <th>others</th>\n",
       "      <th>servant_room</th>\n",
       "      <th>store_room</th>\n",
       "      <th>maintenance_amt</th>\n",
       "      <th>brok_amt</th>\n",
       "      <th>deposit_amt</th>\n",
       "      <th>mnt_amt</th>\n",
       "      <th>rent</th>\n",
       "      <th>expo_rent</th>\n",
       "      <th>address_num</th>\n",
       "    </tr>\n",
       "  </thead>\n",
       "  <tbody>\n",
       "    <tr>\n",
       "      <th>0</th>\n",
       "      <td>2</td>\n",
       "      <td>2</td>\n",
       "      <td>1050.0</td>\n",
       "      <td>Unfurnished</td>\n",
       "      <td>All</td>\n",
       "      <td>Pingale Wasti</td>\n",
       "      <td>5</td>\n",
       "      <td>West</td>\n",
       "      <td>Marble</td>\n",
       "      <td>Yes</td>\n",
       "      <td>...</td>\n",
       "      <td>0</td>\n",
       "      <td>0</td>\n",
       "      <td>0</td>\n",
       "      <td>0</td>\n",
       "      <td>0</td>\n",
       "      <td>3</td>\n",
       "      <td>0.0</td>\n",
       "      <td>9.903488</td>\n",
       "      <td>20000.0</td>\n",
       "      <td>21700.000000</td>\n",
       "    </tr>\n",
       "    <tr>\n",
       "      <th>1</th>\n",
       "      <td>2</td>\n",
       "      <td>2</td>\n",
       "      <td>760.0</td>\n",
       "      <td>Unfurnished</td>\n",
       "      <td>All</td>\n",
       "      <td>Wagholi</td>\n",
       "      <td>5</td>\n",
       "      <td>East</td>\n",
       "      <td>Vitrified</td>\n",
       "      <td>Yes</td>\n",
       "      <td>...</td>\n",
       "      <td>0</td>\n",
       "      <td>0</td>\n",
       "      <td>0</td>\n",
       "      <td>0</td>\n",
       "      <td>0</td>\n",
       "      <td>40000</td>\n",
       "      <td>0.0</td>\n",
       "      <td>9.546813</td>\n",
       "      <td>14000.0</td>\n",
       "      <td>12649.223409</td>\n",
       "    </tr>\n",
       "    <tr>\n",
       "      <th>2</th>\n",
       "      <td>3</td>\n",
       "      <td>3</td>\n",
       "      <td>0.0</td>\n",
       "      <td>Semifurnished</td>\n",
       "      <td>All</td>\n",
       "      <td>Mahalunge</td>\n",
       "      <td>1</td>\n",
       "      <td>South-West</td>\n",
       "      <td>Vitrified</td>\n",
       "      <td>Yes</td>\n",
       "      <td>...</td>\n",
       "      <td>1</td>\n",
       "      <td>0</td>\n",
       "      <td>0</td>\n",
       "      <td>Maintenance 1/ (/ month</td>\n",
       "      <td>23000</td>\n",
       "      <td>60000</td>\n",
       "      <td>1.0</td>\n",
       "      <td>10.043206</td>\n",
       "      <td>22999.0</td>\n",
       "      <td>17396.448276</td>\n",
       "    </tr>\n",
       "    <tr>\n",
       "      <th>3</th>\n",
       "      <td>1</td>\n",
       "      <td>1</td>\n",
       "      <td>628.0</td>\n",
       "      <td>Furnished</td>\n",
       "      <td>Family Only</td>\n",
       "      <td>Wanowrie</td>\n",
       "      <td>3</td>\n",
       "      <td>East</td>\n",
       "      <td>Mosaic</td>\n",
       "      <td>Yes</td>\n",
       "      <td>...</td>\n",
       "      <td>0</td>\n",
       "      <td>0</td>\n",
       "      <td>0</td>\n",
       "      <td>0</td>\n",
       "      <td>0</td>\n",
       "      <td>40000</td>\n",
       "      <td>0.0</td>\n",
       "      <td>9.472705</td>\n",
       "      <td>13000.0</td>\n",
       "      <td>24577.586207</td>\n",
       "    </tr>\n",
       "    <tr>\n",
       "      <th>4</th>\n",
       "      <td>2</td>\n",
       "      <td>2</td>\n",
       "      <td>668.0</td>\n",
       "      <td>Semifurnished</td>\n",
       "      <td>Family , Bachelors (Men Only)</td>\n",
       "      <td>Uruli Devachi</td>\n",
       "      <td>6</td>\n",
       "      <td>South</td>\n",
       "      <td>Polished concrete</td>\n",
       "      <td>Yes</td>\n",
       "      <td>...</td>\n",
       "      <td>0</td>\n",
       "      <td>0</td>\n",
       "      <td>0</td>\n",
       "      <td>0</td>\n",
       "      <td>0</td>\n",
       "      <td>20</td>\n",
       "      <td>0.0</td>\n",
       "      <td>8.922658</td>\n",
       "      <td>7500.0</td>\n",
       "      <td>9400.000000</td>\n",
       "    </tr>\n",
       "  </tbody>\n",
       "</table>\n",
       "<p>5 rows × 32 columns</p>\n",
       "</div>"
      ],
      "text/plain": [
       "   bedroom  bathrooms    area     furnishing                   avalable_for  \\\n",
       "0        2          2  1050.0    Unfurnished                            All   \n",
       "1        2          2   760.0    Unfurnished                            All   \n",
       "2        3          3     0.0  Semifurnished                            All   \n",
       "3        1          1   628.0      Furnished                    Family Only   \n",
       "4        2          2   668.0  Semifurnished  Family , Bachelors (Men Only)   \n",
       "\n",
       "          address  floor_number      facing         floor_type gate_community  \\\n",
       "0   Pingale Wasti             5        West             Marble            Yes   \n",
       "1         Wagholi             5        East          Vitrified            Yes   \n",
       "2       Mahalunge             1  South-West          Vitrified            Yes   \n",
       "3        Wanowrie             3        East             Mosaic            Yes   \n",
       "4   Uruli Devachi             6       South  Polished concrete            Yes   \n",
       "\n",
       "   ... others  servant_room store_room          maintenance_amt  brok_amt  \\\n",
       "0  ...      0             0          0                        0         0   \n",
       "1  ...      0             0          0                        0         0   \n",
       "2  ...      1             0          0  Maintenance 1/ (/ month     23000   \n",
       "3  ...      0             0          0                        0         0   \n",
       "4  ...      0             0          0                        0         0   \n",
       "\n",
       "   deposit_amt  mnt_amt       rent expo_rent   address_num  \n",
       "0            3      0.0   9.903488   20000.0  21700.000000  \n",
       "1        40000      0.0   9.546813   14000.0  12649.223409  \n",
       "2        60000      1.0  10.043206   22999.0  17396.448276  \n",
       "3        40000      0.0   9.472705   13000.0  24577.586207  \n",
       "4           20      0.0   8.922658    7500.0   9400.000000  \n",
       "\n",
       "[5 rows x 32 columns]"
      ]
     },
     "execution_count": 22,
     "metadata": {},
     "output_type": "execute_result"
    }
   ],
   "source": [
    "area_mean = {}\n",
    "\n",
    "for area in np.unique(area_new):\n",
    "    area_mean[area] = df.loc[df['address'] == area]['expo_rent'].mean()\n",
    "    \n",
    "df['address_num'] = df['address'].map(area_mean)\n",
    "df.head()"
   ]
  },
  {
   "cell_type": "code",
   "execution_count": 23,
   "metadata": {},
   "outputs": [
    {
     "data": {
      "image/png": "[encoded data removed]",
      "text/plain": [
       "<Figure size 432x288 with 1 Axes>"
      ]
     },
     "metadata": {
      "needs_background": "light"
     },
     "output_type": "display_data"
    }
   ],
   "source": [
    "df['address_num'].hist(bins = 15)\n",
    "plt.show()"
   ]
  },
  {
   "cell_type": "code",
   "execution_count": 24,
   "metadata": {},
   "outputs": [],
   "source": [
    "df.drop(['address', 'expo_rent'], axis = 1, inplace = True)"
   ]
  },
  {
   "cell_type": "markdown",
   "metadata": {},
   "source": [
    "### Dropping maintenance_amt "
   ]
  },
  {
   "cell_type": "code",
   "execution_count": 25,
   "metadata": {},
   "outputs": [],
   "source": [
    "df.drop(['maintenance_amt'], axis = 1, inplace = True)"
   ]
  },
  {
   "cell_type": "code",
   "execution_count": 26,
   "metadata": {},
   "outputs": [],
   "source": [
    "cat_features.remove('address')\n",
    "cat_features.remove('maintenance_amt')"
   ]
  },
  {
   "cell_type": "markdown",
   "metadata": {},
   "source": [
    "### Distribution of categories"
   ]
  },
  {
   "cell_type": "code",
   "execution_count": 27,
   "metadata": {},
   "outputs": [
    {
     "data": {
      "text/plain": [
       "array(['Unfurnished', 'Semifurnished', 'Furnished'], dtype=object)"
      ]
     },
     "execution_count": 27,
     "metadata": {},
     "output_type": "execute_result"
    }
   ],
   "source": [
    "df['furnishing'] = np.where(df['furnishing'] == 'Unfurnishe', 'Unfurnished', df['furnishing'])\n",
    "df['furnishing'].unique()"
   ]
  },
  {
   "cell_type": "code",
   "execution_count": 28,
   "metadata": {},
   "outputs": [
    {
     "data": {
      "image/png": "[encoded data removed]",
      "text/plain": [
       "<Figure size 432x288 with 1 Axes>"
      ]
     },
     "metadata": {
      "needs_background": "light"
     },
     "output_type": "display_data"
    },
    {
     "data": {
      "image/png": "[encoded data removed]",
      "text/plain": [
       "<Figure size 432x288 with 1 Axes>"
      ]
     },
     "metadata": {
      "needs_background": "light"
     },
     "output_type": "display_data"
    },
    {
     "data": {
      "image/png": "[encoded data removed]",
      "text/plain": [
       "<Figure size 432x288 with 1 Axes>"
      ]
     },
     "metadata": {
      "needs_background": "light"
     },
     "output_type": "display_data"
    },
    {
     "data": {
      "image/png": "[encoded data removed]",
      "text/plain": [
       "<Figure size 432x288 with 1 Axes>"
      ]
     },
     "metadata": {
      "needs_background": "light"
     },
     "output_type": "display_data"
    },
    {
     "data": {
      "image/png": "[encoded data removed]",
      "text/plain": [
       "<Figure size 432x288 with 1 Axes>"
      ]
     },
     "metadata": {
      "needs_background": "light"
     },
     "output_type": "display_data"
    },
    {
     "data": {
      "image/png": "[encoded data removed]",
      "text/plain": [
       "<Figure size 432x288 with 1 Axes>"
      ]
     },
     "metadata": {
      "needs_background": "light"
     },
     "output_type": "display_data"
    },
    {
     "data": {
      "image/png": "[encoded data removed]",
      "text/plain": [
       "<Figure size 432x288 with 1 Axes>"
      ]
     },
     "metadata": {
      "needs_background": "light"
     },
     "output_type": "display_data"
    },
    {
     "data": {
      "image/png": "[encoded data removed]",
      "text/plain": [
       "<Figure size 432x288 with 1 Axes>"
      ]
     },
     "metadata": {
      "needs_background": "light"
     },
     "output_type": "display_data"
    },
    {
     "data": {
      "image/png": "[encoded data removed]",
      "text/plain": [
       "<Figure size 432x288 with 1 Axes>"
      ]
     },
     "metadata": {
      "needs_background": "light"
     },
     "output_type": "display_data"
    }
   ],
   "source": [
    "for feature in cat_features:\n",
    "    df.groupby(feature)[target].count().plot.bar()\n",
    "    \n",
    "    plt.xlabel(feature)\n",
    "    plt.ylabel('count')\n",
    "    plt.show()"
   ]
  },
  {
   "cell_type": "markdown",
   "metadata": {},
   "source": [
    "### vs Target Variable"
   ]
  },
  {
   "cell_type": "code",
   "execution_count": 29,
   "metadata": {},
   "outputs": [
    {
     "data": {
      "image/png": "[encoded data removed]",
      "text/plain": [
       "<Figure size 432x288 with 1 Axes>"
      ]
     },
     "metadata": {
      "needs_background": "light"
     },
     "output_type": "display_data"
    },
    {
     "data": {
      "image/png": "[encoded data removed]",
      "text/plain": [
       "<Figure size 432x288 with 1 Axes>"
      ]
     },
     "metadata": {
      "needs_background": "light"
     },
     "output_type": "display_data"
    },
    {
     "data": {
      "image/png": "[encoded data removed]",
      "text/plain": [
       "<Figure size 432x288 with 1 Axes>"
      ]
     },
     "metadata": {
      "needs_background": "light"
     },
     "output_type": "display_data"
    },
    {
     "data": {
      "image/png": "[encoded data removed]",
      "text/plain": [
       "<Figure size 432x288 with 1 Axes>"
      ]
     },
     "metadata": {
      "needs_background": "light"
     },
     "output_type": "display_data"
    },
    {
     "data": {
      "image/png": "[encoded data removed]",
      "text/plain": [
       "<Figure size 432x288 with 1 Axes>"
      ]
     },
     "metadata": {
      "needs_background": "light"
     },
     "output_type": "display_data"
    },
    {
     "data": {
      "image/png": "[encoded data removed]",
      "text/plain": [
       "<Figure size 432x288 with 1 Axes>"
      ]
     },
     "metadata": {
      "needs_background": "light"
     },
     "output_type": "display_data"
    },
    {
     "data": {
      "image/png": "[encoded data removed]",
      "text/plain": [
       "<Figure size 432x288 with 1 Axes>"
      ]
     },
     "metadata": {
      "needs_background": "light"
     },
     "output_type": "display_data"
    },
    {
     "data": {
      "image/png": "[encoded data removed]",
      "text/plain": [
       "<Figure size 432x288 with 1 Axes>"
      ]
     },
     "metadata": {
      "needs_background": "light"
     },
     "output_type": "display_data"
    },
    {
     "data": {
      "image/png": "[encoded data removed]",
      "text/plain": [
       "<Figure size 432x288 with 1 Axes>"
      ]
     },
     "metadata": {
      "needs_background": "light"
     },
     "output_type": "display_data"
    }
   ],
   "source": [
    "for feature in cat_features:\n",
    "    df.groupby(feature)[target].mean().plot.bar()\n",
    "    \n",
    "    plt.xlabel(feature)\n",
    "    plt.ylabel('count')\n",
    "    plt.show()"
   ]
  },
  {
   "cell_type": "markdown",
   "metadata": {},
   "source": [
    "# Feature Engineering"
   ]
  },
  {
   "cell_type": "code",
   "execution_count": 30,
   "metadata": {},
   "outputs": [
    {
     "name": "stdout",
     "output_type": "stream",
     "text": [
      "(10884, 30)\n"
     ]
    },
    {
     "data": {
      "text/html": [
       "<div>\n",
       "<style scoped>\n",
       "    .dataframe tbody tr th:only-of-type {\n",
       "        vertical-align: middle;\n",
       "    }\n",
       "\n",
       "    .dataframe tbody tr th {\n",
       "        vertical-align: top;\n",
       "    }\n",
       "\n",
       "    .dataframe thead th {\n",
       "        text-align: right;\n",
       "    }\n",
       "</style>\n",
       "<table border=\"1\" class=\"dataframe\">\n",
       "  <thead>\n",
       "    <tr style=\"text-align: right;\">\n",
       "      <th></th>\n",
       "      <th>bedroom</th>\n",
       "      <th>bathrooms</th>\n",
       "      <th>area</th>\n",
       "      <th>furnishing</th>\n",
       "      <th>avalable_for</th>\n",
       "      <th>address</th>\n",
       "      <th>floor_number</th>\n",
       "      <th>facing</th>\n",
       "      <th>floor_type</th>\n",
       "      <th>gate_community</th>\n",
       "      <th>...</th>\n",
       "      <th>pooja_room</th>\n",
       "      <th>study_room</th>\n",
       "      <th>others</th>\n",
       "      <th>servant_room</th>\n",
       "      <th>store_room</th>\n",
       "      <th>maintenance_amt</th>\n",
       "      <th>brok_amt</th>\n",
       "      <th>deposit_amt</th>\n",
       "      <th>mnt_amt</th>\n",
       "      <th>rent</th>\n",
       "    </tr>\n",
       "  </thead>\n",
       "  <tbody>\n",
       "    <tr>\n",
       "      <th>0</th>\n",
       "      <td>2</td>\n",
       "      <td>2</td>\n",
       "      <td>1050.0</td>\n",
       "      <td>Unfurnished</td>\n",
       "      <td>All</td>\n",
       "      <td>Sadguru hights, Pingale Wasti, , Pune, Maharas...</td>\n",
       "      <td>5</td>\n",
       "      <td>West</td>\n",
       "      <td>Marble</td>\n",
       "      <td>Yes</td>\n",
       "      <td>...</td>\n",
       "      <td>0</td>\n",
       "      <td>0</td>\n",
       "      <td>0</td>\n",
       "      <td>0</td>\n",
       "      <td>0</td>\n",
       "      <td>0</td>\n",
       "      <td>0</td>\n",
       "      <td>3</td>\n",
       "      <td>0.0</td>\n",
       "      <td>20000.0</td>\n",
       "    </tr>\n",
       "    <tr>\n",
       "      <th>1</th>\n",
       "      <td>2</td>\n",
       "      <td>2</td>\n",
       "      <td>760.0</td>\n",
       "      <td>Unfurnished</td>\n",
       "      <td>All</td>\n",
       "      <td>Manav Silver Springs, Wagholi, , Pune, Maharas...</td>\n",
       "      <td>5</td>\n",
       "      <td>East</td>\n",
       "      <td>Vitrified</td>\n",
       "      <td>Yes</td>\n",
       "      <td>...</td>\n",
       "      <td>0</td>\n",
       "      <td>0</td>\n",
       "      <td>0</td>\n",
       "      <td>0</td>\n",
       "      <td>0</td>\n",
       "      <td>0</td>\n",
       "      <td>0</td>\n",
       "      <td>40000</td>\n",
       "      <td>0.0</td>\n",
       "      <td>14000.0</td>\n",
       "    </tr>\n",
       "    <tr>\n",
       "      <th>2</th>\n",
       "      <td>3</td>\n",
       "      <td>3</td>\n",
       "      <td>0.0</td>\n",
       "      <td>Semifurnished</td>\n",
       "      <td>All</td>\n",
       "      <td>Saarrthi Souvenir, Mahalunge, , Pune, Maharashtra</td>\n",
       "      <td>1</td>\n",
       "      <td>South-West</td>\n",
       "      <td>Vitrified</td>\n",
       "      <td>Yes</td>\n",
       "      <td>...</td>\n",
       "      <td>0</td>\n",
       "      <td>0</td>\n",
       "      <td>1</td>\n",
       "      <td>0</td>\n",
       "      <td>0</td>\n",
       "      <td>Maintenance 1/ (/ month</td>\n",
       "      <td>23000</td>\n",
       "      <td>60000</td>\n",
       "      <td>1.0</td>\n",
       "      <td>22999.0</td>\n",
       "    </tr>\n",
       "    <tr>\n",
       "      <th>3</th>\n",
       "      <td>1</td>\n",
       "      <td>1</td>\n",
       "      <td>628.0</td>\n",
       "      <td>Furnished</td>\n",
       "      <td>Family Only</td>\n",
       "      <td>Dhan Residency, Wanowrie, , Pune, Maharashtra</td>\n",
       "      <td>3</td>\n",
       "      <td>East</td>\n",
       "      <td>Mosaic</td>\n",
       "      <td>Yes</td>\n",
       "      <td>...</td>\n",
       "      <td>0</td>\n",
       "      <td>0</td>\n",
       "      <td>0</td>\n",
       "      <td>0</td>\n",
       "      <td>0</td>\n",
       "      <td>0</td>\n",
       "      <td>0</td>\n",
       "      <td>40000</td>\n",
       "      <td>0.0</td>\n",
       "      <td>13000.0</td>\n",
       "    </tr>\n",
       "    <tr>\n",
       "      <th>4</th>\n",
       "      <td>2</td>\n",
       "      <td>2</td>\n",
       "      <td>668.0</td>\n",
       "      <td>Semifurnished</td>\n",
       "      <td>Family , Bachelors (Men Only)</td>\n",
       "      <td>Saptsiddhi Savali Homes, Uruli Devachi, , Pune...</td>\n",
       "      <td>6</td>\n",
       "      <td>South</td>\n",
       "      <td>Polished concrete</td>\n",
       "      <td>Yes</td>\n",
       "      <td>...</td>\n",
       "      <td>0</td>\n",
       "      <td>0</td>\n",
       "      <td>0</td>\n",
       "      <td>0</td>\n",
       "      <td>0</td>\n",
       "      <td>0</td>\n",
       "      <td>0</td>\n",
       "      <td>20</td>\n",
       "      <td>0.0</td>\n",
       "      <td>7500.0</td>\n",
       "    </tr>\n",
       "  </tbody>\n",
       "</table>\n",
       "<p>5 rows × 30 columns</p>\n",
       "</div>"
      ],
      "text/plain": [
       "   bedroom  bathrooms    area     furnishing                   avalable_for  \\\n",
       "0        2          2  1050.0    Unfurnished                            All   \n",
       "1        2          2   760.0    Unfurnished                            All   \n",
       "2        3          3     0.0  Semifurnished                            All   \n",
       "3        1          1   628.0      Furnished                    Family Only   \n",
       "4        2          2   668.0  Semifurnished  Family , Bachelors (Men Only)   \n",
       "\n",
       "                                             address  floor_number  \\\n",
       "0  Sadguru hights, Pingale Wasti, , Pune, Maharas...             5   \n",
       "1  Manav Silver Springs, Wagholi, , Pune, Maharas...             5   \n",
       "2  Saarrthi Souvenir, Mahalunge, , Pune, Maharashtra             1   \n",
       "3      Dhan Residency, Wanowrie, , Pune, Maharashtra             3   \n",
       "4  Saptsiddhi Savali Homes, Uruli Devachi, , Pune...             6   \n",
       "\n",
       "       facing         floor_type gate_community  ... pooja_room  study_room  \\\n",
       "0        West             Marble            Yes  ...          0           0   \n",
       "1        East          Vitrified            Yes  ...          0           0   \n",
       "2  South-West          Vitrified            Yes  ...          0           0   \n",
       "3        East             Mosaic            Yes  ...          0           0   \n",
       "4       South  Polished concrete            Yes  ...          0           0   \n",
       "\n",
       "  others servant_room  store_room          maintenance_amt  brok_amt  \\\n",
       "0      0            0           0                        0         0   \n",
       "1      0            0           0                        0         0   \n",
       "2      1            0           0  Maintenance 1/ (/ month     23000   \n",
       "3      0            0           0                        0         0   \n",
       "4      0            0           0                        0         0   \n",
       "\n",
       "   deposit_amt mnt_amt     rent  \n",
       "0            3     0.0  20000.0  \n",
       "1        40000     0.0  14000.0  \n",
       "2        60000     1.0  22999.0  \n",
       "3        40000     0.0  13000.0  \n",
       "4           20     0.0   7500.0  \n",
       "\n",
       "[5 rows x 30 columns]"
      ]
     },
     "execution_count": 30,
     "metadata": {},
     "output_type": "execute_result"
    }
   ],
   "source": [
    "df = pd.read_csv('train.csv')\n",
    "\n",
    "print(df.shape)\n",
    "df.head()"
   ]
  },
  {
   "cell_type": "markdown",
   "metadata": {},
   "source": [
    "## Dropping Rows"
   ]
  },
  {
   "cell_type": "code",
   "execution_count": 31,
   "metadata": {},
   "outputs": [],
   "source": [
    "df.drop((df.loc[df['rent'] == max(df['rent'])]).index, inplace = True)"
   ]
  },
  {
   "cell_type": "markdown",
   "metadata": {},
   "source": [
    "## Encoding address feature"
   ]
  },
  {
   "cell_type": "code",
   "execution_count": 32,
   "metadata": {},
   "outputs": [],
   "source": [
    "area = list(df['address'].astype(str))\n",
    "\n",
    "area_new = []\n",
    "\n",
    "for a in area:\n",
    "    area_new.append(a[a.find(',') + 1: a.find(',', a.find(',') + 1)])\n",
    "    \n",
    "df['address'] = np.array(area_new)"
   ]
  },
  {
   "cell_type": "code",
   "execution_count": 33,
   "metadata": {},
   "outputs": [],
   "source": [
    "area_mean = {}\n",
    "\n",
    "for area in np.unique(np.array(area_new)):\n",
    "    area_mean[area] = df.loc[df['address'] == area]['rent'].mean()\n",
    "    \n",
    "df['address_num'] = df['address'].map(area_mean)"
   ]
  },
  {
   "cell_type": "markdown",
   "metadata": {},
   "source": [
    "## Transformation of Numerical Features"
   ]
  },
  {
   "cell_type": "code",
   "execution_count": 34,
   "metadata": {},
   "outputs": [],
   "source": [
    "## log transformation of target variable\n",
    "\n",
    "df[target] = np.log(df[target])"
   ]
  },
  {
   "cell_type": "code",
   "execution_count": 35,
   "metadata": {},
   "outputs": [],
   "source": [
    "## replacement of outliers and square root transformation of continuous features\n",
    "\n",
    "for feature in con_features:\n",
    "    \n",
    "    extreme = int(df[feature].median() + 2 * df[feature].std()) + 1\n",
    "    df[feature] = np.where(df[feature] > extreme, extreme, df[feature])\n",
    "    df[feature] = df[feature] ** 0.5"
   ]
  },
  {
   "cell_type": "markdown",
   "metadata": {},
   "source": [
    "## Dropping Features"
   ]
  },
  {
   "cell_type": "code",
   "execution_count": 36,
   "metadata": {},
   "outputs": [],
   "source": [
    "df.drop(['maintenance_amt', 'address'], axis = 1, inplace = True)"
   ]
  },
  {
   "cell_type": "markdown",
   "metadata": {},
   "source": [
    "## Encoding of Categorial Variables"
   ]
  },
  {
   "cell_type": "code",
   "execution_count": 37,
   "metadata": {},
   "outputs": [
    {
     "name": "stdout",
     "output_type": "stream",
     "text": [
      "(10883, 61)\n"
     ]
    },
    {
     "data": {
      "text/html": [
       "<div>\n",
       "<style scoped>\n",
       "    .dataframe tbody tr th:only-of-type {\n",
       "        vertical-align: middle;\n",
       "    }\n",
       "\n",
       "    .dataframe tbody tr th {\n",
       "        vertical-align: top;\n",
       "    }\n",
       "\n",
       "    .dataframe thead th {\n",
       "        text-align: right;\n",
       "    }\n",
       "</style>\n",
       "<table border=\"1\" class=\"dataframe\">\n",
       "  <thead>\n",
       "    <tr style=\"text-align: right;\">\n",
       "      <th></th>\n",
       "      <th>bedroom</th>\n",
       "      <th>bathrooms</th>\n",
       "      <th>area</th>\n",
       "      <th>floor_number</th>\n",
       "      <th>parking</th>\n",
       "      <th>aggDur</th>\n",
       "      <th>noticeDur</th>\n",
       "      <th>lightbill</th>\n",
       "      <th>powerbackup</th>\n",
       "      <th>no_room</th>\n",
       "      <th>...</th>\n",
       "      <th>floor_type_Wood</th>\n",
       "      <th>gate_community_Yes</th>\n",
       "      <th>corner_pro_Yes</th>\n",
       "      <th>wheelchairadption_Yes</th>\n",
       "      <th>petfacility_Yes</th>\n",
       "      <th>propertyage_1 to 5 Year Old</th>\n",
       "      <th>propertyage_10+ Year Old</th>\n",
       "      <th>propertyage_5 to 10 Year Old</th>\n",
       "      <th>propertyage_NO age</th>\n",
       "      <th>propertyage_Under Construction</th>\n",
       "    </tr>\n",
       "  </thead>\n",
       "  <tbody>\n",
       "    <tr>\n",
       "      <th>0</th>\n",
       "      <td>2</td>\n",
       "      <td>2</td>\n",
       "      <td>32.403703</td>\n",
       "      <td>5</td>\n",
       "      <td>0</td>\n",
       "      <td>3.316625</td>\n",
       "      <td>2</td>\n",
       "      <td>0</td>\n",
       "      <td>2</td>\n",
       "      <td>1</td>\n",
       "      <td>...</td>\n",
       "      <td>0</td>\n",
       "      <td>1</td>\n",
       "      <td>0</td>\n",
       "      <td>0</td>\n",
       "      <td>0</td>\n",
       "      <td>0</td>\n",
       "      <td>0</td>\n",
       "      <td>1</td>\n",
       "      <td>0</td>\n",
       "      <td>0</td>\n",
       "    </tr>\n",
       "    <tr>\n",
       "      <th>1</th>\n",
       "      <td>2</td>\n",
       "      <td>2</td>\n",
       "      <td>27.568098</td>\n",
       "      <td>5</td>\n",
       "      <td>2</td>\n",
       "      <td>3.316625</td>\n",
       "      <td>1</td>\n",
       "      <td>0</td>\n",
       "      <td>2</td>\n",
       "      <td>1</td>\n",
       "      <td>...</td>\n",
       "      <td>0</td>\n",
       "      <td>1</td>\n",
       "      <td>1</td>\n",
       "      <td>0</td>\n",
       "      <td>0</td>\n",
       "      <td>1</td>\n",
       "      <td>0</td>\n",
       "      <td>0</td>\n",
       "      <td>0</td>\n",
       "      <td>0</td>\n",
       "    </tr>\n",
       "    <tr>\n",
       "      <th>2</th>\n",
       "      <td>3</td>\n",
       "      <td>3</td>\n",
       "      <td>0.000000</td>\n",
       "      <td>1</td>\n",
       "      <td>1</td>\n",
       "      <td>3.316625</td>\n",
       "      <td>1</td>\n",
       "      <td>0</td>\n",
       "      <td>2</td>\n",
       "      <td>0</td>\n",
       "      <td>...</td>\n",
       "      <td>0</td>\n",
       "      <td>1</td>\n",
       "      <td>0</td>\n",
       "      <td>0</td>\n",
       "      <td>0</td>\n",
       "      <td>1</td>\n",
       "      <td>0</td>\n",
       "      <td>0</td>\n",
       "      <td>0</td>\n",
       "      <td>0</td>\n",
       "    </tr>\n",
       "    <tr>\n",
       "      <th>3</th>\n",
       "      <td>1</td>\n",
       "      <td>1</td>\n",
       "      <td>25.059928</td>\n",
       "      <td>3</td>\n",
       "      <td>1</td>\n",
       "      <td>3.316625</td>\n",
       "      <td>1</td>\n",
       "      <td>0</td>\n",
       "      <td>0</td>\n",
       "      <td>1</td>\n",
       "      <td>...</td>\n",
       "      <td>0</td>\n",
       "      <td>1</td>\n",
       "      <td>0</td>\n",
       "      <td>0</td>\n",
       "      <td>0</td>\n",
       "      <td>0</td>\n",
       "      <td>1</td>\n",
       "      <td>0</td>\n",
       "      <td>0</td>\n",
       "      <td>0</td>\n",
       "    </tr>\n",
       "    <tr>\n",
       "      <th>4</th>\n",
       "      <td>2</td>\n",
       "      <td>2</td>\n",
       "      <td>25.845696</td>\n",
       "      <td>6</td>\n",
       "      <td>1</td>\n",
       "      <td>3.464102</td>\n",
       "      <td>1</td>\n",
       "      <td>1</td>\n",
       "      <td>1</td>\n",
       "      <td>1</td>\n",
       "      <td>...</td>\n",
       "      <td>0</td>\n",
       "      <td>1</td>\n",
       "      <td>1</td>\n",
       "      <td>0</td>\n",
       "      <td>0</td>\n",
       "      <td>1</td>\n",
       "      <td>0</td>\n",
       "      <td>0</td>\n",
       "      <td>0</td>\n",
       "      <td>0</td>\n",
       "    </tr>\n",
       "  </tbody>\n",
       "</table>\n",
       "<p>5 rows × 61 columns</p>\n",
       "</div>"
      ],
      "text/plain": [
       "   bedroom  bathrooms       area  floor_number  parking    aggDur  noticeDur  \\\n",
       "0        2          2  32.403703             5        0  3.316625          2   \n",
       "1        2          2  27.568098             5        2  3.316625          1   \n",
       "2        3          3   0.000000             1        1  3.316625          1   \n",
       "3        1          1  25.059928             3        1  3.316625          1   \n",
       "4        2          2  25.845696             6        1  3.464102          1   \n",
       "\n",
       "   lightbill  powerbackup  no_room  ...  floor_type_Wood  gate_community_Yes  \\\n",
       "0          0            2        1  ...                0                   1   \n",
       "1          0            2        1  ...                0                   1   \n",
       "2          0            2        0  ...                0                   1   \n",
       "3          0            0        1  ...                0                   1   \n",
       "4          1            1        1  ...                0                   1   \n",
       "\n",
       "   corner_pro_Yes  wheelchairadption_Yes  petfacility_Yes  \\\n",
       "0               0                      0                0   \n",
       "1               1                      0                0   \n",
       "2               0                      0                0   \n",
       "3               0                      0                0   \n",
       "4               1                      0                0   \n",
       "\n",
       "   propertyage_1 to 5 Year Old  propertyage_10+ Year Old  \\\n",
       "0                            0                         0   \n",
       "1                            1                         0   \n",
       "2                            1                         0   \n",
       "3                            0                         1   \n",
       "4                            1                         0   \n",
       "\n",
       "   propertyage_5 to 10 Year Old  propertyage_NO age  \\\n",
       "0                             1                   0   \n",
       "1                             0                   0   \n",
       "2                             0                   0   \n",
       "3                             0                   0   \n",
       "4                             0                   0   \n",
       "\n",
       "   propertyage_Under Construction  \n",
       "0                               0  \n",
       "1                               0  \n",
       "2                               0  \n",
       "3                               0  \n",
       "4                               0  \n",
       "\n",
       "[5 rows x 61 columns]"
      ]
     },
     "execution_count": 37,
     "metadata": {},
     "output_type": "execute_result"
    }
   ],
   "source": [
    "dummy_df = pd.get_dummies(df, drop_first = True)\n",
    "\n",
    "print(dummy_df.shape)\n",
    "dummy_df.head()"
   ]
  },
  {
   "cell_type": "code",
   "execution_count": 38,
   "metadata": {},
   "outputs": [],
   "source": [
    "dummy_df.to_csv('processed_data.csv', index = False)"
   ]
  },
  {
   "cell_type": "markdown",
   "metadata": {},
   "source": [
    "# Feature Selection"
   ]
  },
  {
   "cell_type": "code",
   "execution_count": 39,
   "metadata": {},
   "outputs": [],
   "source": [
    "df = pd.read_csv('processed_data.csv')"
   ]
  },
  {
   "cell_type": "markdown",
   "metadata": {},
   "source": [
    "## Dropping using Correlation"
   ]
  },
  {
   "cell_type": "code",
   "execution_count": 40,
   "metadata": {},
   "outputs": [
    {
     "data": {
      "image/png": "[encoded data removed]",
      "text/plain": [
       "<Figure size 1080x432 with 2 Axes>"
      ]
     },
     "metadata": {
      "needs_background": "light"
     },
     "output_type": "display_data"
    }
   ],
   "source": [
    "cor = df[num_features].corr()\n",
    "\n",
    "plt.figure(figsize = (15, 6))\n",
    "sns.heatmap(cor, annot = True, cmap = plt.cm.CMRmap_r)\n",
    "plt.show()"
   ]
  },
  {
   "cell_type": "markdown",
   "metadata": {},
   "source": [
    "We can drop bedroom or bathrooms"
   ]
  },
  {
   "cell_type": "code",
   "execution_count": 41,
   "metadata": {},
   "outputs": [],
   "source": [
    "df.drop(['bathrooms'], axis = 1, inplace = True)"
   ]
  },
  {
   "cell_type": "markdown",
   "metadata": {},
   "source": [
    "## Selection using Lasso"
   ]
  },
  {
   "cell_type": "code",
   "execution_count": 42,
   "metadata": {},
   "outputs": [],
   "source": [
    "X = df.drop(['rent'], axis = 1)\n",
    "y = df['rent']"
   ]
  },
  {
   "cell_type": "code",
   "execution_count": 43,
   "metadata": {},
   "outputs": [],
   "source": [
    "from sklearn.linear_model import Lasso\n",
    "from sklearn.feature_selection import SelectFromModel\n",
    "from sklearn.preprocessing import MinMaxScaler"
   ]
  },
  {
   "cell_type": "code",
   "execution_count": 44,
   "metadata": {},
   "outputs": [
    {
     "data": {
      "text/plain": [
       "MinMaxScaler()"
      ]
     },
     "execution_count": 44,
     "metadata": {},
     "output_type": "execute_result"
    }
   ],
   "source": [
    "scaler = MinMaxScaler()\n",
    "\n",
    "scaler.fit(X)"
   ]
  },
  {
   "cell_type": "code",
   "execution_count": 45,
   "metadata": {},
   "outputs": [],
   "source": [
    "X_scaled = scaler.transform(X)"
   ]
  },
  {
   "cell_type": "code",
   "execution_count": 46,
   "metadata": {},
   "outputs": [
    {
     "data": {
      "text/plain": [
       "SelectFromModel(estimator=Lasso(alpha=0.005, random_state=0))"
      ]
     },
     "execution_count": 46,
     "metadata": {},
     "output_type": "execute_result"
    }
   ],
   "source": [
    "feature_sel_model = SelectFromModel(Lasso(alpha = 0.005, random_state = 0))\n",
    "feature_sel_model.fit(X_scaled, y)                                    "
   ]
  },
  {
   "cell_type": "code",
   "execution_count": 47,
   "metadata": {},
   "outputs": [
    {
     "name": "stdout",
     "output_type": "stream",
     "text": [
      "total features: 59\n",
      "selected features: 16\n",
      "features with coefficients shrunk to 0: 43\n"
     ]
    }
   ],
   "source": [
    "selected_features = X.columns[(feature_sel_model.get_support())]\n",
    "\n",
    "print('total features:', X.shape[1])\n",
    "print('selected features:', len(selected_features))\n",
    "print('features with coefficients shrunk to 0:', np.sum(feature_sel_model.estimator_.coef_ == 0))"
   ]
  },
  {
   "cell_type": "code",
   "execution_count": 48,
   "metadata": {},
   "outputs": [
    {
     "name": "stdout",
     "output_type": "stream",
     "text": [
      "Selected Features:\n",
      " Index(['bedroom', 'area', 'floor_number', 'powerbackup', 'no_room', 'brok_amt',\n",
      "       'deposit_amt', 'address_num', 'furnishing_Semifurnished',\n",
      "       'furnishing_Unfurnished', 'avalable_for_Family Only',\n",
      "       'facing_No Direction', 'gate_community_Yes', 'wheelchairadption_Yes',\n",
      "       'propertyage_1 to 5 Year Old', 'propertyage_10+ Year Old'],\n",
      "      dtype='object')\n"
     ]
    }
   ],
   "source": [
    "print('Selected Features:\\n', selected_features)"
   ]
  },
  {
   "cell_type": "code",
   "execution_count": 49,
   "metadata": {},
   "outputs": [],
   "source": [
    "X_lasso = X[selected_features]"
   ]
  },
  {
   "cell_type": "markdown",
   "metadata": {},
   "source": [
    "# Models"
   ]
  },
  {
   "cell_type": "code",
   "execution_count": 50,
   "metadata": {},
   "outputs": [],
   "source": [
    "X = X_lasso\n",
    "y = df['rent']"
   ]
  },
  {
   "cell_type": "markdown",
   "metadata": {},
   "source": [
    "## Scaling"
   ]
  },
  {
   "cell_type": "code",
   "execution_count": 51,
   "metadata": {},
   "outputs": [],
   "source": [
    "from sklearn.preprocessing import MinMaxScaler\n",
    "from sklearn.model_selection import train_test_split"
   ]
  },
  {
   "cell_type": "code",
   "execution_count": null,
   "metadata": {},
   "outputs": [],
   "source": [
    "X_train, X_test, y_train, y_test = train_test_split(X, y, test_size = 0.2)"
   ]
  },
  {
   "cell_type": "code",
   "execution_count": 53,
   "metadata": {},
   "outputs": [
    {
     "data": {
      "text/plain": [
       "MinMaxScaler()"
      ]
     },
     "execution_count": 53,
     "metadata": {},
     "output_type": "execute_result"
    }
   ],
   "source": [
    "scaler = MinMaxScaler()\n",
    "\n",
    "scaler.fit(X_train)"
   ]
  },
  {
   "cell_type": "code",
   "execution_count": 54,
   "metadata": {},
   "outputs": [],
   "source": [
    "X_train_scaled = scaler.transform(X_train)\n",
    "X_test_scaled = scaler.transform(X_test)"
   ]
  },
  {
   "cell_type": "markdown",
   "metadata": {},
   "source": [
    "### Linear Regression"
   ]
  },
  {
   "cell_type": "code",
   "execution_count": 55,
   "metadata": {},
   "outputs": [],
   "source": [
    "from sklearn.linear_model import LinearRegression"
   ]
  },
  {
   "cell_type": "code",
   "execution_count": 56,
   "metadata": {},
   "outputs": [
    {
     "name": "stdout",
     "output_type": "stream",
     "text": [
      "0.6909473580761316\n"
     ]
    }
   ],
   "source": [
    "scores = []\n",
    "\n",
    "for i in range(10):\n",
    "    X_train, X_test, y_train, y_test = train_test_split(X, y, test_size = 0.2)\n",
    "    \n",
    "    model = LinearRegression()\n",
    "    model.fit(X_train, y_train)\n",
    "    scores.append(model.score(X_test, y_test))\n",
    "\n",
    "print(np.mean(scores))"
   ]
  },
  {
   "cell_type": "markdown",
   "metadata": {},
   "source": [
    "### Random Forest Regression"
   ]
  },
  {
   "cell_type": "code",
   "execution_count": 57,
   "metadata": {},
   "outputs": [],
   "source": [
    "from sklearn.ensemble import RandomForestRegressor"
   ]
  },
  {
   "cell_type": "code",
   "execution_count": 58,
   "metadata": {},
   "outputs": [
    {
     "name": "stdout",
     "output_type": "stream",
     "text": [
      "0.8195262579324367\n"
     ]
    }
   ],
   "source": [
    "scores = []\n",
    "\n",
    "for i in range(10):\n",
    "    X_train, X_test, y_train, y_test = train_test_split(X, y, test_size = 0.2)\n",
    "    \n",
    "    model = RandomForestRegressor()\n",
    "    model.fit(X_train, y_train)\n",
    "    scores.append(model.score(X_test, y_test))\n",
    "\n",
    "print(np.mean(scores))"
   ]
  },
  {
   "cell_type": "markdown",
   "metadata": {},
   "source": [
    "### XGBoost Regression"
   ]
  },
  {
   "cell_type": "code",
   "execution_count": 59,
   "metadata": {},
   "outputs": [],
   "source": [
    "from xgboost import XGBRegressor"
   ]
  },
  {
   "cell_type": "code",
   "execution_count": 60,
   "metadata": {},
   "outputs": [
    {
     "name": "stdout",
     "output_type": "stream",
     "text": [
      "0.8459100295280395\n"
     ]
    }
   ],
   "source": [
    "scores = []\n",
    "\n",
    "for i in range(10):\n",
    "    X_train, X_test, y_train, y_test = train_test_split(X, y, test_size = 0.2)\n",
    "    \n",
    "    model = XGBRegressor()\n",
    "    model.fit(X_train, y_train)\n",
    "    scores.append(model.score(X_test, y_test))\n",
    "\n",
    "print(np.mean(scores))"
   ]
  }
 ],
 "metadata": {
  "kernelspec": {
   "display_name": "Python 3",
   "language": "python",
   "name": "python3"
  },
  "language_info": {
   "codemirror_mode": {
    "name": "ipython",
    "version": 3
   },
   "file_extension": ".py",
   "mimetype": "text/x-python",
   "name": "python",
   "nbconvert_exporter": "python",
   "pygments_lexer": "ipython3",
   "version": "3.9.5"
  }
 },
 "nbformat": 4,
 "nbformat_minor": 4
}
